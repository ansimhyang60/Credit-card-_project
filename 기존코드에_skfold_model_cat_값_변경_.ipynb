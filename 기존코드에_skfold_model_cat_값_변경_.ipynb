{
  "nbformat": 4,
  "nbformat_minor": 0,
  "metadata": {
    "colab": {
      "provenance": [],
      "include_colab_link": true
    },
    "kernelspec": {
      "name": "python3",
      "display_name": "Python 3"
    },
    "language_info": {
      "name": "python"
    },
    "accelerator": "GPU"
  },
  "cells": [
    {
      "cell_type": "markdown",
      "metadata": {
        "id": "view-in-github",
        "colab_type": "text"
      },
      "source": [
        "<a href=\"https://colab.research.google.com/github/ansimhyang60/mini_project/blob/main/%EA%B8%B0%EC%A1%B4%EC%BD%94%EB%93%9C%EC%97%90_skfold_model_cat_%EA%B0%92_%EB%B3%80%EA%B2%BD_.ipynb\" target=\"_parent\"><img src=\"https://colab.research.google.com/assets/colab-badge.svg\" alt=\"Open In Colab\"/></a>"
      ]
    },
    {
      "cell_type": "markdown",
      "source": [
        "https://dacon.io/competitions/official/235713/data\n",
        "\n",
        "https://dacon.io/codeshare/2477 pycaret\n",
        "\n",
        "https://dacon.io/competitions/official/235713/codeshare/2768?page=1&dtype=recent 1위"
      ],
      "metadata": {
        "id": "G0O6SwO1DxVf"
      }
    },
    {
      "cell_type": "code",
      "source": [
        "path = '/content/drive/MyDrive/CSV/'"
      ],
      "metadata": {
        "id": "35uWuZReRILB"
      },
      "execution_count": null,
      "outputs": []
    },
    {
      "cell_type": "code",
      "source": [
        "import os\n",
        "os.listdir(path)"
      ],
      "metadata": {
        "colab": {
          "base_uri": "https://localhost:8080/"
        },
        "id": "VTMgRb6rRV1b",
        "outputId": "e9c19cd3-5c76-4d19-d25f-dd2006472d4d"
      },
      "execution_count": null,
      "outputs": [
        {
          "output_type": "execute_result",
          "data": {
            "text/plain": [
              "['train.csv',\n",
              " 'test.csv',\n",
              " 'sample_submission.csv',\n",
              " 'data-Pension.csv',\n",
              " 'occyp_null.csv',\n",
              " 'occyp_full.csv',\n",
              " '※ 데이터 변수 설명 ※.gdoc',\n",
              " 'occyp_type-mean.csv']"
            ]
          },
          "metadata": {},
          "execution_count": 220
        }
      ]
    },
    {
      "cell_type": "code",
      "source": [
        "import pandas as pd\n",
        "train = pd.read_csv(path+'train.csv')\n",
        "test = pd.read_csv(path + 'test.csv')\n",
        "submission = pd.read_csv(path + 'sample_submission.csv')"
      ],
      "metadata": {
        "id": "fvSD4f64D4mc"
      },
      "execution_count": null,
      "outputs": []
    },
    {
      "cell_type": "code",
      "source": [
        "print(train.shape)\n",
        "print(test.shape)\n",
        "print(submission.shape)"
      ],
      "metadata": {
        "id": "3MRMfk0CEyEW",
        "colab": {
          "base_uri": "https://localhost:8080/"
        },
        "outputId": "f008ba0a-411f-4b76-dc6a-ece39b0ce524"
      },
      "execution_count": null,
      "outputs": [
        {
          "output_type": "stream",
          "name": "stdout",
          "text": [
            "(26457, 20)\n",
            "(10000, 19)\n",
            "(10000, 4)\n"
          ]
        }
      ]
    },
    {
      "cell_type": "code",
      "source": [
        "# !pip install catboost\n",
        "# !pip install category_encoders"
      ],
      "metadata": {
        "id": "6tmJKp5ElPfm"
      },
      "execution_count": null,
      "outputs": []
    },
    {
      "cell_type": "code",
      "source": [
        "import numpy as np\n",
        "import pandas as pd\n",
        "import seaborn as sns\n",
        "import matplotlib.pyplot as plt\n",
        "import warnings, random\n",
        "warnings.filterwarnings(action='ignore')\n",
        "\n",
        "from sklearn.metrics import log_loss\n",
        "from sklearn.preprocessing import StandardScaler\n",
        "from category_encoders.ordinal import OrdinalEncoder\n",
        "from sklearn.model_selection import StratifiedKFold\n",
        "\n",
        "from sklearn.cluster import KMeans\n",
        "from catboost import CatBoostClassifier, Pool"
      ],
      "metadata": {
        "id": "ZJoY8ktGlTXF"
      },
      "execution_count": null,
      "outputs": []
    },
    {
      "cell_type": "code",
      "source": [
        "train.head()"
      ],
      "metadata": {
        "id": "mqYidM-gFHNG",
        "colab": {
          "base_uri": "https://localhost:8080/",
          "height": 426
        },
        "outputId": "d61239a0-e838-475c-c704-4c42835d3472"
      },
      "execution_count": null,
      "outputs": [
        {
          "output_type": "execute_result",
          "data": {
            "text/html": [
              "\n",
              "  <div id=\"df-49eb0107-4846-414a-a1a7-a190be1945ed\">\n",
              "    <div class=\"colab-df-container\">\n",
              "      <div>\n",
              "<style scoped>\n",
              "    .dataframe tbody tr th:only-of-type {\n",
              "        vertical-align: middle;\n",
              "    }\n",
              "\n",
              "    .dataframe tbody tr th {\n",
              "        vertical-align: top;\n",
              "    }\n",
              "\n",
              "    .dataframe thead th {\n",
              "        text-align: right;\n",
              "    }\n",
              "</style>\n",
              "<table border=\"1\" class=\"dataframe\">\n",
              "  <thead>\n",
              "    <tr style=\"text-align: right;\">\n",
              "      <th></th>\n",
              "      <th>index</th>\n",
              "      <th>gender</th>\n",
              "      <th>car</th>\n",
              "      <th>reality</th>\n",
              "      <th>child_num</th>\n",
              "      <th>income_total</th>\n",
              "      <th>income_type</th>\n",
              "      <th>edu_type</th>\n",
              "      <th>family_type</th>\n",
              "      <th>house_type</th>\n",
              "      <th>DAYS_BIRTH</th>\n",
              "      <th>DAYS_EMPLOYED</th>\n",
              "      <th>FLAG_MOBIL</th>\n",
              "      <th>work_phone</th>\n",
              "      <th>phone</th>\n",
              "      <th>email</th>\n",
              "      <th>occyp_type</th>\n",
              "      <th>family_size</th>\n",
              "      <th>begin_month</th>\n",
              "      <th>credit</th>\n",
              "    </tr>\n",
              "  </thead>\n",
              "  <tbody>\n",
              "    <tr>\n",
              "      <th>0</th>\n",
              "      <td>0</td>\n",
              "      <td>F</td>\n",
              "      <td>N</td>\n",
              "      <td>N</td>\n",
              "      <td>0</td>\n",
              "      <td>202500.0</td>\n",
              "      <td>Commercial associate</td>\n",
              "      <td>Higher education</td>\n",
              "      <td>Married</td>\n",
              "      <td>Municipal apartment</td>\n",
              "      <td>-13899</td>\n",
              "      <td>-4709</td>\n",
              "      <td>1</td>\n",
              "      <td>0</td>\n",
              "      <td>0</td>\n",
              "      <td>0</td>\n",
              "      <td>NaN</td>\n",
              "      <td>2.0</td>\n",
              "      <td>-6.0</td>\n",
              "      <td>1.0</td>\n",
              "    </tr>\n",
              "    <tr>\n",
              "      <th>1</th>\n",
              "      <td>1</td>\n",
              "      <td>F</td>\n",
              "      <td>N</td>\n",
              "      <td>Y</td>\n",
              "      <td>1</td>\n",
              "      <td>247500.0</td>\n",
              "      <td>Commercial associate</td>\n",
              "      <td>Secondary / secondary special</td>\n",
              "      <td>Civil marriage</td>\n",
              "      <td>House / apartment</td>\n",
              "      <td>-11380</td>\n",
              "      <td>-1540</td>\n",
              "      <td>1</td>\n",
              "      <td>0</td>\n",
              "      <td>0</td>\n",
              "      <td>1</td>\n",
              "      <td>Laborers</td>\n",
              "      <td>3.0</td>\n",
              "      <td>-5.0</td>\n",
              "      <td>1.0</td>\n",
              "    </tr>\n",
              "    <tr>\n",
              "      <th>2</th>\n",
              "      <td>2</td>\n",
              "      <td>M</td>\n",
              "      <td>Y</td>\n",
              "      <td>Y</td>\n",
              "      <td>0</td>\n",
              "      <td>450000.0</td>\n",
              "      <td>Working</td>\n",
              "      <td>Higher education</td>\n",
              "      <td>Married</td>\n",
              "      <td>House / apartment</td>\n",
              "      <td>-19087</td>\n",
              "      <td>-4434</td>\n",
              "      <td>1</td>\n",
              "      <td>0</td>\n",
              "      <td>1</td>\n",
              "      <td>0</td>\n",
              "      <td>Managers</td>\n",
              "      <td>2.0</td>\n",
              "      <td>-22.0</td>\n",
              "      <td>2.0</td>\n",
              "    </tr>\n",
              "    <tr>\n",
              "      <th>3</th>\n",
              "      <td>3</td>\n",
              "      <td>F</td>\n",
              "      <td>N</td>\n",
              "      <td>Y</td>\n",
              "      <td>0</td>\n",
              "      <td>202500.0</td>\n",
              "      <td>Commercial associate</td>\n",
              "      <td>Secondary / secondary special</td>\n",
              "      <td>Married</td>\n",
              "      <td>House / apartment</td>\n",
              "      <td>-15088</td>\n",
              "      <td>-2092</td>\n",
              "      <td>1</td>\n",
              "      <td>0</td>\n",
              "      <td>1</td>\n",
              "      <td>0</td>\n",
              "      <td>Sales staff</td>\n",
              "      <td>2.0</td>\n",
              "      <td>-37.0</td>\n",
              "      <td>0.0</td>\n",
              "    </tr>\n",
              "    <tr>\n",
              "      <th>4</th>\n",
              "      <td>4</td>\n",
              "      <td>F</td>\n",
              "      <td>Y</td>\n",
              "      <td>Y</td>\n",
              "      <td>0</td>\n",
              "      <td>157500.0</td>\n",
              "      <td>State servant</td>\n",
              "      <td>Higher education</td>\n",
              "      <td>Married</td>\n",
              "      <td>House / apartment</td>\n",
              "      <td>-15037</td>\n",
              "      <td>-2105</td>\n",
              "      <td>1</td>\n",
              "      <td>0</td>\n",
              "      <td>0</td>\n",
              "      <td>0</td>\n",
              "      <td>Managers</td>\n",
              "      <td>2.0</td>\n",
              "      <td>-26.0</td>\n",
              "      <td>2.0</td>\n",
              "    </tr>\n",
              "  </tbody>\n",
              "</table>\n",
              "</div>\n",
              "      <button class=\"colab-df-convert\" onclick=\"convertToInteractive('df-49eb0107-4846-414a-a1a7-a190be1945ed')\"\n",
              "              title=\"Convert this dataframe to an interactive table.\"\n",
              "              style=\"display:none;\">\n",
              "        \n",
              "  <svg xmlns=\"http://www.w3.org/2000/svg\" height=\"24px\"viewBox=\"0 0 24 24\"\n",
              "       width=\"24px\">\n",
              "    <path d=\"M0 0h24v24H0V0z\" fill=\"none\"/>\n",
              "    <path d=\"M18.56 5.44l.94 2.06.94-2.06 2.06-.94-2.06-.94-.94-2.06-.94 2.06-2.06.94zm-11 1L8.5 8.5l.94-2.06 2.06-.94-2.06-.94L8.5 2.5l-.94 2.06-2.06.94zm10 10l.94 2.06.94-2.06 2.06-.94-2.06-.94-.94-2.06-.94 2.06-2.06.94z\"/><path d=\"M17.41 7.96l-1.37-1.37c-.4-.4-.92-.59-1.43-.59-.52 0-1.04.2-1.43.59L10.3 9.45l-7.72 7.72c-.78.78-.78 2.05 0 2.83L4 21.41c.39.39.9.59 1.41.59.51 0 1.02-.2 1.41-.59l7.78-7.78 2.81-2.81c.8-.78.8-2.07 0-2.86zM5.41 20L4 18.59l7.72-7.72 1.47 1.35L5.41 20z\"/>\n",
              "  </svg>\n",
              "      </button>\n",
              "      \n",
              "  <style>\n",
              "    .colab-df-container {\n",
              "      display:flex;\n",
              "      flex-wrap:wrap;\n",
              "      gap: 12px;\n",
              "    }\n",
              "\n",
              "    .colab-df-convert {\n",
              "      background-color: #E8F0FE;\n",
              "      border: none;\n",
              "      border-radius: 50%;\n",
              "      cursor: pointer;\n",
              "      display: none;\n",
              "      fill: #1967D2;\n",
              "      height: 32px;\n",
              "      padding: 0 0 0 0;\n",
              "      width: 32px;\n",
              "    }\n",
              "\n",
              "    .colab-df-convert:hover {\n",
              "      background-color: #E2EBFA;\n",
              "      box-shadow: 0px 1px 2px rgba(60, 64, 67, 0.3), 0px 1px 3px 1px rgba(60, 64, 67, 0.15);\n",
              "      fill: #174EA6;\n",
              "    }\n",
              "\n",
              "    [theme=dark] .colab-df-convert {\n",
              "      background-color: #3B4455;\n",
              "      fill: #D2E3FC;\n",
              "    }\n",
              "\n",
              "    [theme=dark] .colab-df-convert:hover {\n",
              "      background-color: #434B5C;\n",
              "      box-shadow: 0px 1px 3px 1px rgba(0, 0, 0, 0.15);\n",
              "      filter: drop-shadow(0px 1px 2px rgba(0, 0, 0, 0.3));\n",
              "      fill: #FFFFFF;\n",
              "    }\n",
              "  </style>\n",
              "\n",
              "      <script>\n",
              "        const buttonEl =\n",
              "          document.querySelector('#df-49eb0107-4846-414a-a1a7-a190be1945ed button.colab-df-convert');\n",
              "        buttonEl.style.display =\n",
              "          google.colab.kernel.accessAllowed ? 'block' : 'none';\n",
              "\n",
              "        async function convertToInteractive(key) {\n",
              "          const element = document.querySelector('#df-49eb0107-4846-414a-a1a7-a190be1945ed');\n",
              "          const dataTable =\n",
              "            await google.colab.kernel.invokeFunction('convertToInteractive',\n",
              "                                                     [key], {});\n",
              "          if (!dataTable) return;\n",
              "\n",
              "          const docLinkHtml = 'Like what you see? Visit the ' +\n",
              "            '<a target=\"_blank\" href=https://colab.research.google.com/notebooks/data_table.ipynb>data table notebook</a>'\n",
              "            + ' to learn more about interactive tables.';\n",
              "          element.innerHTML = '';\n",
              "          dataTable['output_type'] = 'display_data';\n",
              "          await google.colab.output.renderOutput(dataTable, element);\n",
              "          const docLink = document.createElement('div');\n",
              "          docLink.innerHTML = docLinkHtml;\n",
              "          element.appendChild(docLink);\n",
              "        }\n",
              "      </script>\n",
              "    </div>\n",
              "  </div>\n",
              "  "
            ],
            "text/plain": [
              "   index gender car reality  ...   occyp_type  family_size begin_month credit\n",
              "0      0      F   N       N  ...          NaN          2.0        -6.0    1.0\n",
              "1      1      F   N       Y  ...     Laborers          3.0        -5.0    1.0\n",
              "2      2      M   Y       Y  ...     Managers          2.0       -22.0    2.0\n",
              "3      3      F   N       Y  ...  Sales staff          2.0       -37.0    0.0\n",
              "4      4      F   Y       Y  ...     Managers          2.0       -26.0    2.0\n",
              "\n",
              "[5 rows x 20 columns]"
            ]
          },
          "metadata": {},
          "execution_count": 297
        }
      ]
    },
    {
      "cell_type": "code",
      "source": [
        "train.fillna('NaN', inplace=True)\n",
        "test.fillna('NaN', inplace=True)"
      ],
      "metadata": {
        "id": "NnsSWdwVH5Zx"
      },
      "execution_count": null,
      "outputs": []
    },
    {
      "cell_type": "code",
      "source": [
        "train = train[(train['family_size'] <= 7)]\n",
        "train = train.reset_index(drop=True)"
      ],
      "metadata": {
        "id": "q3ycTmhcHuRH"
      },
      "execution_count": null,
      "outputs": []
    },
    {
      "cell_type": "code",
      "source": [
        "train.drop(['index', 'FLAG_MOBIL'], axis=1, inplace=True)\n",
        "test.drop(['index', 'FLAG_MOBIL'], axis=1, inplace=True)"
      ],
      "metadata": {
        "id": "lrg78G-MNy97"
      },
      "execution_count": null,
      "outputs": []
    },
    {
      "cell_type": "code",
      "source": [
        "# 무직이고 연금수령자인 사람의 직업유형에 결측치 대체\n",
        "def fill_pensioner(occup, income_type):\n",
        "  if (occup == 'NaN') & (income_type == 'Pensioner'):\n",
        "    occup = 'Pensioner'\n",
        "    return occup\n",
        "  else:\n",
        "    return occup"
      ],
      "metadata": {
        "id": "35Ir97w1U8Q1"
      },
      "execution_count": null,
      "outputs": []
    },
    {
      "cell_type": "code",
      "source": [
        "train['occyp_type_'] = train[['occyp_type', 'income_type']].apply(lambda x: fill_pensioner(*x), axis=1)\n",
        "test['occyp_type_'] = train[['occyp_type', 'income_type']].apply(lambda x: fill_pensioner(*x), axis=1)"
      ],
      "metadata": {
        "id": "RsbQTZz5U_k4"
      },
      "execution_count": null,
      "outputs": []
    },
    {
      "cell_type": "markdown",
      "source": [
        "# 필요한 변수\n",
        "- Age: 나이\n",
        "- workable : 근무가능 연수, (나이-20)\n",
        "- worked : 업무기간. 근무한 년수\n",
        "- unemployed : 실업기간, (나이-20-근무한 년수)\n",
        "- 기존 ability : (소득/(나이+업무기간))\n",
        "- sincerity : 성실성, (소득*업무기간/근무가능연수)\n",
        "- (아이디어: ability에 근무년수가 많을수록 가중치 줄 수 있게)"
      ],
      "metadata": {
        "id": "EDffUEcyvSYb"
      }
    },
    {
      "cell_type": "markdown",
      "source": [
        "## 나이 컬럼 추가"
      ],
      "metadata": {
        "id": "acQv5v7U44O6"
      }
    },
    {
      "cell_type": "code",
      "source": [
        "feats = ['DAYS_BIRTH']\n",
        "for feat in feats:\n",
        "    train[feat]=np.abs(train[feat])\n",
        "    test[feat]=np.abs(test[feat])"
      ],
      "metadata": {
        "id": "6icEdW30uEXL"
      },
      "execution_count": null,
      "outputs": []
    },
    {
      "cell_type": "code",
      "source": [
        "for df in [train, test]:\n",
        "  # 나이\n",
        "  df['Age'] = (df['DAYS_BIRTH'] / 365).round(1)\n",
        "\n",
        "train['Age'].hist()"
      ],
      "metadata": {
        "colab": {
          "base_uri": "https://localhost:8080/",
          "height": 283
        },
        "id": "utCBMsEWyDCy",
        "outputId": "bb5fdf2c-140c-49f0-a72d-6956bc1d37b3"
      },
      "execution_count": null,
      "outputs": [
        {
          "output_type": "execute_result",
          "data": {
            "text/plain": [
              "<matplotlib.axes._subplots.AxesSubplot at 0x7f449787ad50>"
            ]
          },
          "metadata": {},
          "execution_count": 304
        },
        {
          "output_type": "display_data",
          "data": {
            "image/png": "[encoded data removed]",
            "text/plain": [
              "<Figure size 432x288 with 1 Axes>"
            ]
          },
          "metadata": {
            "needs_background": "light"
          }
        }
      ]
    },
    {
      "cell_type": "code",
      "source": [
        "non_occyp_pensioner = train[train.occyp_type_ == 'Pensioner']"
      ],
      "metadata": {
        "id": "6_hoUQyExtva"
      },
      "execution_count": null,
      "outputs": []
    },
    {
      "cell_type": "code",
      "source": [
        "# 무직 연금수령자의 나이 분포\n",
        "non_occyp_pensioner.Age.hist()"
      ],
      "metadata": {
        "colab": {
          "base_uri": "https://localhost:8080/",
          "height": 283
        },
        "id": "pgYbkbZ3xvG_",
        "outputId": "695ac0a9-1f7f-496a-d3ca-26df6e74c13f"
      },
      "execution_count": null,
      "outputs": [
        {
          "output_type": "execute_result",
          "data": {
            "text/plain": [
              "<matplotlib.axes._subplots.AxesSubplot at 0x7f4498022090>"
            ]
          },
          "metadata": {},
          "execution_count": 306
        },
        {
          "output_type": "display_data",
          "data": {
            "image/png": "[encoded data removed]",
            "text/plain": [
              "<Figure size 432x288 with 1 Axes>"
            ]
          },
          "metadata": {
            "needs_background": "light"
          }
        }
      ]
    },
    {
      "cell_type": "code",
      "source": [
        "# 무직 연금 수령자인데 40세 미만인 사람 수\n",
        "len(non_occyp_pensioner[non_occyp_pensioner.Age<40])"
      ],
      "metadata": {
        "colab": {
          "base_uri": "https://localhost:8080/"
        },
        "id": "WX-CK0bbzF8i",
        "outputId": "9f88e5bf-1dd3-41fd-b9c5-eaa2a976d7fe"
      },
      "execution_count": null,
      "outputs": [
        {
          "output_type": "execute_result",
          "data": {
            "text/plain": [
              "42"
            ]
          },
          "metadata": {},
          "execution_count": 307
        }
      ]
    },
    {
      "cell_type": "markdown",
      "source": [
        "## 업무기간 컬럼 추가"
      ],
      "metadata": {
        "id": "yrb7nqUs5FNn"
      }
    },
    {
      "cell_type": "code",
      "source": [
        "# 업무기간\n",
        "for df in [train, test]:\n",
        "  # 나이\n",
        "  df['Worked'] = (df['DAYS_EMPLOYED'] / 365).round(1)\n",
        "\n",
        "train.Worked"
      ],
      "metadata": {
        "colab": {
          "base_uri": "https://localhost:8080/"
        },
        "id": "mT4C-XUs0I5v",
        "outputId": "408fe5d6-2c43-4b9c-e470-5d58740cc6ee"
      },
      "execution_count": null,
      "outputs": [
        {
          "output_type": "execute_result",
          "data": {
            "text/plain": [
              "0       -12.9\n",
              "1        -4.2\n",
              "2       -12.1\n",
              "3        -5.7\n",
              "4        -5.8\n",
              "         ... \n",
              "26446    -5.4\n",
              "26447    -6.8\n",
              "26448    -5.5\n",
              "26449    -0.3\n",
              "26450    -2.8\n",
              "Name: Worked, Length: 26451, dtype: float64"
            ]
          },
          "metadata": {},
          "execution_count": 308
        }
      ]
    },
    {
      "cell_type": "code",
      "source": [
        "np.sum(train.Worked > 0)"
      ],
      "metadata": {
        "colab": {
          "base_uri": "https://localhost:8080/"
        },
        "id": "2bWyKM_N5rOn",
        "outputId": "b40ff424-dbd4-468f-8109-5f3793f79f5b"
      },
      "execution_count": null,
      "outputs": [
        {
          "output_type": "execute_result",
          "data": {
            "text/plain": [
              "4438"
            ]
          },
          "metadata": {},
          "execution_count": 309
        }
      ]
    },
    {
      "cell_type": "code",
      "source": [
        "len(non_occyp_pensioner)"
      ],
      "metadata": {
        "colab": {
          "base_uri": "https://localhost:8080/"
        },
        "id": "0WbHGl8O52mZ",
        "outputId": "0c48bd4b-0085-420a-c192-744ca35fc3d1"
      },
      "execution_count": null,
      "outputs": [
        {
          "output_type": "execute_result",
          "data": {
            "text/plain": [
              "4440"
            ]
          },
          "metadata": {},
          "execution_count": 310
        }
      ]
    },
    {
      "cell_type": "code",
      "source": [
        "# 모두 연금 수령자임\n",
        "train[train.Worked>0].occyp_type_.value_counts()"
      ],
      "metadata": {
        "colab": {
          "base_uri": "https://localhost:8080/"
        },
        "id": "D-XKj4yL58vZ",
        "outputId": "bb42fd36-c02a-4f42-b97c-357e3085ee1f"
      },
      "execution_count": null,
      "outputs": [
        {
          "output_type": "execute_result",
          "data": {
            "text/plain": [
              "Pensioner    4438\n",
              "Name: occyp_type_, dtype: int64"
            ]
          },
          "metadata": {},
          "execution_count": 311
        }
      ]
    },
    {
      "cell_type": "code",
      "source": [
        "def non_occyp_pensioner_fill_worked(age, worked):\n",
        "  if worked > 0:\n",
        "    if (age>=40) & (worked>0):\n",
        "      worked = 20\n",
        "    elif worked > 0:\n",
        "      worked = age-20\n",
        "  else:\n",
        "    worked = np.abs(worked)\n",
        "  return worked\n",
        "\n",
        "for df in [train, test]:\n",
        "  df['Worked'] = df[['Age', 'Worked']].apply(lambda x: non_occyp_pensioner_fill_worked(*x), axis=1)\n",
        "\n",
        "train.Worked"
      ],
      "metadata": {
        "colab": {
          "base_uri": "https://localhost:8080/"
        },
        "id": "ViBliUw757WE",
        "outputId": "ddeae8e5-59f0-4e31-eb58-19687b11b6c8"
      },
      "execution_count": null,
      "outputs": [
        {
          "output_type": "execute_result",
          "data": {
            "text/plain": [
              "0        12.9\n",
              "1         4.2\n",
              "2        12.1\n",
              "3         5.7\n",
              "4         5.8\n",
              "         ... \n",
              "26446     5.4\n",
              "26447     6.8\n",
              "26448     5.5\n",
              "26449     0.3\n",
              "26450     2.8\n",
              "Name: Worked, Length: 26451, dtype: float64"
            ]
          },
          "metadata": {},
          "execution_count": 312
        }
      ]
    },
    {
      "cell_type": "code",
      "source": [
        "non_occyp_pensioner = train[train.occyp_type_=='Pensioner']\n",
        "non_occyp_pensioner.Worked.hist()"
      ],
      "metadata": {
        "colab": {
          "base_uri": "https://localhost:8080/",
          "height": 283
        },
        "id": "s61OaxvT74hR",
        "outputId": "7e40fcc8-7180-4afc-bc3e-f5d88453d0ce"
      },
      "execution_count": null,
      "outputs": [
        {
          "output_type": "execute_result",
          "data": {
            "text/plain": [
              "<matplotlib.axes._subplots.AxesSubplot at 0x7f44981c9450>"
            ]
          },
          "metadata": {},
          "execution_count": 313
        },
        {
          "output_type": "display_data",
          "data": {
            "image/png": "[encoded data removed]",
            "text/plain": [
              "<Figure size 432x288 with 1 Axes>"
            ]
          },
          "metadata": {
            "needs_background": "light"
          }
        }
      ]
    },
    {
      "cell_type": "markdown",
      "source": [
        "## 업무가능 연수, 실업기간 컬럼 추가"
      ],
      "metadata": {
        "id": "n_syIJDF97og"
      }
    },
    {
      "cell_type": "code",
      "source": [
        "for df in [train, test]:\n",
        "  df['Workable'] = df['Age'] - 20\n",
        "  df['Unemployed'] = df['Workable'] - df['Worked']"
      ],
      "metadata": {
        "id": "26jC8kdKtFmz"
      },
      "execution_count": null,
      "outputs": []
    },
    {
      "cell_type": "code",
      "source": [
        "train.head()"
      ],
      "metadata": {
        "colab": {
          "base_uri": "https://localhost:8080/",
          "height": 426
        },
        "id": "Wf5N9uhH_igV",
        "outputId": "3a02ae8d-b21e-4734-efd9-ea560fb0b0ef"
      },
      "execution_count": null,
      "outputs": [
        {
          "output_type": "execute_result",
          "data": {
            "text/html": [
              "\n",
              "  <div id=\"df-6de54a45-4bdc-4a5a-b86d-9906a6d80188\">\n",
              "    <div class=\"colab-df-container\">\n",
              "      <div>\n",
              "<style scoped>\n",
              "    .dataframe tbody tr th:only-of-type {\n",
              "        vertical-align: middle;\n",
              "    }\n",
              "\n",
              "    .dataframe tbody tr th {\n",
              "        vertical-align: top;\n",
              "    }\n",
              "\n",
              "    .dataframe thead th {\n",
              "        text-align: right;\n",
              "    }\n",
              "</style>\n",
              "<table border=\"1\" class=\"dataframe\">\n",
              "  <thead>\n",
              "    <tr style=\"text-align: right;\">\n",
              "      <th></th>\n",
              "      <th>gender</th>\n",
              "      <th>car</th>\n",
              "      <th>reality</th>\n",
              "      <th>child_num</th>\n",
              "      <th>income_total</th>\n",
              "      <th>income_type</th>\n",
              "      <th>edu_type</th>\n",
              "      <th>family_type</th>\n",
              "      <th>house_type</th>\n",
              "      <th>DAYS_BIRTH</th>\n",
              "      <th>DAYS_EMPLOYED</th>\n",
              "      <th>work_phone</th>\n",
              "      <th>phone</th>\n",
              "      <th>email</th>\n",
              "      <th>occyp_type</th>\n",
              "      <th>family_size</th>\n",
              "      <th>begin_month</th>\n",
              "      <th>credit</th>\n",
              "      <th>occyp_type_</th>\n",
              "      <th>Age</th>\n",
              "      <th>Worked</th>\n",
              "      <th>Workable</th>\n",
              "      <th>Unemployed</th>\n",
              "    </tr>\n",
              "  </thead>\n",
              "  <tbody>\n",
              "    <tr>\n",
              "      <th>0</th>\n",
              "      <td>F</td>\n",
              "      <td>N</td>\n",
              "      <td>N</td>\n",
              "      <td>0</td>\n",
              "      <td>202500.0</td>\n",
              "      <td>Commercial associate</td>\n",
              "      <td>Higher education</td>\n",
              "      <td>Married</td>\n",
              "      <td>Municipal apartment</td>\n",
              "      <td>13899</td>\n",
              "      <td>-4709</td>\n",
              "      <td>0</td>\n",
              "      <td>0</td>\n",
              "      <td>0</td>\n",
              "      <td>NaN</td>\n",
              "      <td>2.0</td>\n",
              "      <td>-6.0</td>\n",
              "      <td>1.0</td>\n",
              "      <td>NaN</td>\n",
              "      <td>38.1</td>\n",
              "      <td>12.9</td>\n",
              "      <td>18.1</td>\n",
              "      <td>5.2</td>\n",
              "    </tr>\n",
              "    <tr>\n",
              "      <th>1</th>\n",
              "      <td>F</td>\n",
              "      <td>N</td>\n",
              "      <td>Y</td>\n",
              "      <td>1</td>\n",
              "      <td>247500.0</td>\n",
              "      <td>Commercial associate</td>\n",
              "      <td>Secondary / secondary special</td>\n",
              "      <td>Civil marriage</td>\n",
              "      <td>House / apartment</td>\n",
              "      <td>11380</td>\n",
              "      <td>-1540</td>\n",
              "      <td>0</td>\n",
              "      <td>0</td>\n",
              "      <td>1</td>\n",
              "      <td>Laborers</td>\n",
              "      <td>3.0</td>\n",
              "      <td>-5.0</td>\n",
              "      <td>1.0</td>\n",
              "      <td>Laborers</td>\n",
              "      <td>31.2</td>\n",
              "      <td>4.2</td>\n",
              "      <td>11.2</td>\n",
              "      <td>7.0</td>\n",
              "    </tr>\n",
              "    <tr>\n",
              "      <th>2</th>\n",
              "      <td>M</td>\n",
              "      <td>Y</td>\n",
              "      <td>Y</td>\n",
              "      <td>0</td>\n",
              "      <td>450000.0</td>\n",
              "      <td>Working</td>\n",
              "      <td>Higher education</td>\n",
              "      <td>Married</td>\n",
              "      <td>House / apartment</td>\n",
              "      <td>19087</td>\n",
              "      <td>-4434</td>\n",
              "      <td>0</td>\n",
              "      <td>1</td>\n",
              "      <td>0</td>\n",
              "      <td>Managers</td>\n",
              "      <td>2.0</td>\n",
              "      <td>-22.0</td>\n",
              "      <td>2.0</td>\n",
              "      <td>Managers</td>\n",
              "      <td>52.3</td>\n",
              "      <td>12.1</td>\n",
              "      <td>32.3</td>\n",
              "      <td>20.2</td>\n",
              "    </tr>\n",
              "    <tr>\n",
              "      <th>3</th>\n",
              "      <td>F</td>\n",
              "      <td>N</td>\n",
              "      <td>Y</td>\n",
              "      <td>0</td>\n",
              "      <td>202500.0</td>\n",
              "      <td>Commercial associate</td>\n",
              "      <td>Secondary / secondary special</td>\n",
              "      <td>Married</td>\n",
              "      <td>House / apartment</td>\n",
              "      <td>15088</td>\n",
              "      <td>-2092</td>\n",
              "      <td>0</td>\n",
              "      <td>1</td>\n",
              "      <td>0</td>\n",
              "      <td>Sales staff</td>\n",
              "      <td>2.0</td>\n",
              "      <td>-37.0</td>\n",
              "      <td>0.0</td>\n",
              "      <td>Sales staff</td>\n",
              "      <td>41.3</td>\n",
              "      <td>5.7</td>\n",
              "      <td>21.3</td>\n",
              "      <td>15.6</td>\n",
              "    </tr>\n",
              "    <tr>\n",
              "      <th>4</th>\n",
              "      <td>F</td>\n",
              "      <td>Y</td>\n",
              "      <td>Y</td>\n",
              "      <td>0</td>\n",
              "      <td>157500.0</td>\n",
              "      <td>State servant</td>\n",
              "      <td>Higher education</td>\n",
              "      <td>Married</td>\n",
              "      <td>House / apartment</td>\n",
              "      <td>15037</td>\n",
              "      <td>-2105</td>\n",
              "      <td>0</td>\n",
              "      <td>0</td>\n",
              "      <td>0</td>\n",
              "      <td>Managers</td>\n",
              "      <td>2.0</td>\n",
              "      <td>-26.0</td>\n",
              "      <td>2.0</td>\n",
              "      <td>Managers</td>\n",
              "      <td>41.2</td>\n",
              "      <td>5.8</td>\n",
              "      <td>21.2</td>\n",
              "      <td>15.4</td>\n",
              "    </tr>\n",
              "  </tbody>\n",
              "</table>\n",
              "</div>\n",
              "      <button class=\"colab-df-convert\" onclick=\"convertToInteractive('df-6de54a45-4bdc-4a5a-b86d-9906a6d80188')\"\n",
              "              title=\"Convert this dataframe to an interactive table.\"\n",
              "              style=\"display:none;\">\n",
              "        \n",
              "  <svg xmlns=\"http://www.w3.org/2000/svg\" height=\"24px\"viewBox=\"0 0 24 24\"\n",
              "       width=\"24px\">\n",
              "    <path d=\"M0 0h24v24H0V0z\" fill=\"none\"/>\n",
              "    <path d=\"M18.56 5.44l.94 2.06.94-2.06 2.06-.94-2.06-.94-.94-2.06-.94 2.06-2.06.94zm-11 1L8.5 8.5l.94-2.06 2.06-.94-2.06-.94L8.5 2.5l-.94 2.06-2.06.94zm10 10l.94 2.06.94-2.06 2.06-.94-2.06-.94-.94-2.06-.94 2.06-2.06.94z\"/><path d=\"M17.41 7.96l-1.37-1.37c-.4-.4-.92-.59-1.43-.59-.52 0-1.04.2-1.43.59L10.3 9.45l-7.72 7.72c-.78.78-.78 2.05 0 2.83L4 21.41c.39.39.9.59 1.41.59.51 0 1.02-.2 1.41-.59l7.78-7.78 2.81-2.81c.8-.78.8-2.07 0-2.86zM5.41 20L4 18.59l7.72-7.72 1.47 1.35L5.41 20z\"/>\n",
              "  </svg>\n",
              "      </button>\n",
              "      \n",
              "  <style>\n",
              "    .colab-df-container {\n",
              "      display:flex;\n",
              "      flex-wrap:wrap;\n",
              "      gap: 12px;\n",
              "    }\n",
              "\n",
              "    .colab-df-convert {\n",
              "      background-color: #E8F0FE;\n",
              "      border: none;\n",
              "      border-radius: 50%;\n",
              "      cursor: pointer;\n",
              "      display: none;\n",
              "      fill: #1967D2;\n",
              "      height: 32px;\n",
              "      padding: 0 0 0 0;\n",
              "      width: 32px;\n",
              "    }\n",
              "\n",
              "    .colab-df-convert:hover {\n",
              "      background-color: #E2EBFA;\n",
              "      box-shadow: 0px 1px 2px rgba(60, 64, 67, 0.3), 0px 1px 3px 1px rgba(60, 64, 67, 0.15);\n",
              "      fill: #174EA6;\n",
              "    }\n",
              "\n",
              "    [theme=dark] .colab-df-convert {\n",
              "      background-color: #3B4455;\n",
              "      fill: #D2E3FC;\n",
              "    }\n",
              "\n",
              "    [theme=dark] .colab-df-convert:hover {\n",
              "      background-color: #434B5C;\n",
              "      box-shadow: 0px 1px 3px 1px rgba(0, 0, 0, 0.15);\n",
              "      filter: drop-shadow(0px 1px 2px rgba(0, 0, 0, 0.3));\n",
              "      fill: #FFFFFF;\n",
              "    }\n",
              "  </style>\n",
              "\n",
              "      <script>\n",
              "        const buttonEl =\n",
              "          document.querySelector('#df-6de54a45-4bdc-4a5a-b86d-9906a6d80188 button.colab-df-convert');\n",
              "        buttonEl.style.display =\n",
              "          google.colab.kernel.accessAllowed ? 'block' : 'none';\n",
              "\n",
              "        async function convertToInteractive(key) {\n",
              "          const element = document.querySelector('#df-6de54a45-4bdc-4a5a-b86d-9906a6d80188');\n",
              "          const dataTable =\n",
              "            await google.colab.kernel.invokeFunction('convertToInteractive',\n",
              "                                                     [key], {});\n",
              "          if (!dataTable) return;\n",
              "\n",
              "          const docLinkHtml = 'Like what you see? Visit the ' +\n",
              "            '<a target=\"_blank\" href=https://colab.research.google.com/notebooks/data_table.ipynb>data table notebook</a>'\n",
              "            + ' to learn more about interactive tables.';\n",
              "          element.innerHTML = '';\n",
              "          dataTable['output_type'] = 'display_data';\n",
              "          await google.colab.output.renderOutput(dataTable, element);\n",
              "          const docLink = document.createElement('div');\n",
              "          docLink.innerHTML = docLinkHtml;\n",
              "          element.appendChild(docLink);\n",
              "        }\n",
              "      </script>\n",
              "    </div>\n",
              "  </div>\n",
              "  "
            ],
            "text/plain": [
              "  gender car reality  child_num  ...   Age Worked Workable Unemployed\n",
              "0      F   N       N          0  ...  38.1   12.9     18.1        5.2\n",
              "1      F   N       Y          1  ...  31.2    4.2     11.2        7.0\n",
              "2      M   Y       Y          0  ...  52.3   12.1     32.3       20.2\n",
              "3      F   N       Y          0  ...  41.3    5.7     21.3       15.6\n",
              "4      F   Y       Y          0  ...  41.2    5.8     21.2       15.4\n",
              "\n",
              "[5 rows x 23 columns]"
            ]
          },
          "metadata": {},
          "execution_count": 315
        }
      ]
    },
    {
      "cell_type": "markdown",
      "source": [
        "## 어빌리티: 1위코드에 있던 변수. (소득/(나이+업무기간))"
      ],
      "metadata": {
        "id": "1ikRx8cS_rN-"
      }
    },
    {
      "cell_type": "code",
      "source": [
        "for df in [train, test]:\n",
        "  df['ability'] = ( df['income_total'] / (df['Age']+df['Worked']) ).round(2)"
      ],
      "metadata": {
        "id": "xk1Vxw5V_qUm"
      },
      "execution_count": null,
      "outputs": []
    },
    {
      "cell_type": "code",
      "source": [
        "train.head(2)"
      ],
      "metadata": {
        "colab": {
          "base_uri": "https://localhost:8080/",
          "height": 245
        },
        "id": "y61rbeOGAEQw",
        "outputId": "0a5bbde6-2a03-48f6-ad08-94ca005a6e62"
      },
      "execution_count": null,
      "outputs": [
        {
          "output_type": "execute_result",
          "data": {
            "text/html": [
              "\n",
              "  <div id=\"df-28eb483b-ea70-4074-9338-e875e54ef387\">\n",
              "    <div class=\"colab-df-container\">\n",
              "      <div>\n",
              "<style scoped>\n",
              "    .dataframe tbody tr th:only-of-type {\n",
              "        vertical-align: middle;\n",
              "    }\n",
              "\n",
              "    .dataframe tbody tr th {\n",
              "        vertical-align: top;\n",
              "    }\n",
              "\n",
              "    .dataframe thead th {\n",
              "        text-align: right;\n",
              "    }\n",
              "</style>\n",
              "<table border=\"1\" class=\"dataframe\">\n",
              "  <thead>\n",
              "    <tr style=\"text-align: right;\">\n",
              "      <th></th>\n",
              "      <th>gender</th>\n",
              "      <th>car</th>\n",
              "      <th>reality</th>\n",
              "      <th>child_num</th>\n",
              "      <th>income_total</th>\n",
              "      <th>income_type</th>\n",
              "      <th>edu_type</th>\n",
              "      <th>family_type</th>\n",
              "      <th>house_type</th>\n",
              "      <th>DAYS_BIRTH</th>\n",
              "      <th>DAYS_EMPLOYED</th>\n",
              "      <th>work_phone</th>\n",
              "      <th>phone</th>\n",
              "      <th>email</th>\n",
              "      <th>occyp_type</th>\n",
              "      <th>family_size</th>\n",
              "      <th>begin_month</th>\n",
              "      <th>credit</th>\n",
              "      <th>occyp_type_</th>\n",
              "      <th>Age</th>\n",
              "      <th>Worked</th>\n",
              "      <th>Workable</th>\n",
              "      <th>Unemployed</th>\n",
              "      <th>ability</th>\n",
              "    </tr>\n",
              "  </thead>\n",
              "  <tbody>\n",
              "    <tr>\n",
              "      <th>0</th>\n",
              "      <td>F</td>\n",
              "      <td>N</td>\n",
              "      <td>N</td>\n",
              "      <td>0</td>\n",
              "      <td>202500.0</td>\n",
              "      <td>Commercial associate</td>\n",
              "      <td>Higher education</td>\n",
              "      <td>Married</td>\n",
              "      <td>Municipal apartment</td>\n",
              "      <td>13899</td>\n",
              "      <td>-4709</td>\n",
              "      <td>0</td>\n",
              "      <td>0</td>\n",
              "      <td>0</td>\n",
              "      <td>NaN</td>\n",
              "      <td>2.0</td>\n",
              "      <td>-6.0</td>\n",
              "      <td>1.0</td>\n",
              "      <td>NaN</td>\n",
              "      <td>38.1</td>\n",
              "      <td>12.9</td>\n",
              "      <td>18.1</td>\n",
              "      <td>5.2</td>\n",
              "      <td>3970.59</td>\n",
              "    </tr>\n",
              "    <tr>\n",
              "      <th>1</th>\n",
              "      <td>F</td>\n",
              "      <td>N</td>\n",
              "      <td>Y</td>\n",
              "      <td>1</td>\n",
              "      <td>247500.0</td>\n",
              "      <td>Commercial associate</td>\n",
              "      <td>Secondary / secondary special</td>\n",
              "      <td>Civil marriage</td>\n",
              "      <td>House / apartment</td>\n",
              "      <td>11380</td>\n",
              "      <td>-1540</td>\n",
              "      <td>0</td>\n",
              "      <td>0</td>\n",
              "      <td>1</td>\n",
              "      <td>Laborers</td>\n",
              "      <td>3.0</td>\n",
              "      <td>-5.0</td>\n",
              "      <td>1.0</td>\n",
              "      <td>Laborers</td>\n",
              "      <td>31.2</td>\n",
              "      <td>4.2</td>\n",
              "      <td>11.2</td>\n",
              "      <td>7.0</td>\n",
              "      <td>6991.53</td>\n",
              "    </tr>\n",
              "  </tbody>\n",
              "</table>\n",
              "</div>\n",
              "      <button class=\"colab-df-convert\" onclick=\"convertToInteractive('df-28eb483b-ea70-4074-9338-e875e54ef387')\"\n",
              "              title=\"Convert this dataframe to an interactive table.\"\n",
              "              style=\"display:none;\">\n",
              "        \n",
              "  <svg xmlns=\"http://www.w3.org/2000/svg\" height=\"24px\"viewBox=\"0 0 24 24\"\n",
              "       width=\"24px\">\n",
              "    <path d=\"M0 0h24v24H0V0z\" fill=\"none\"/>\n",
              "    <path d=\"M18.56 5.44l.94 2.06.94-2.06 2.06-.94-2.06-.94-.94-2.06-.94 2.06-2.06.94zm-11 1L8.5 8.5l.94-2.06 2.06-.94-2.06-.94L8.5 2.5l-.94 2.06-2.06.94zm10 10l.94 2.06.94-2.06 2.06-.94-2.06-.94-.94-2.06-.94 2.06-2.06.94z\"/><path d=\"M17.41 7.96l-1.37-1.37c-.4-.4-.92-.59-1.43-.59-.52 0-1.04.2-1.43.59L10.3 9.45l-7.72 7.72c-.78.78-.78 2.05 0 2.83L4 21.41c.39.39.9.59 1.41.59.51 0 1.02-.2 1.41-.59l7.78-7.78 2.81-2.81c.8-.78.8-2.07 0-2.86zM5.41 20L4 18.59l7.72-7.72 1.47 1.35L5.41 20z\"/>\n",
              "  </svg>\n",
              "      </button>\n",
              "      \n",
              "  <style>\n",
              "    .colab-df-container {\n",
              "      display:flex;\n",
              "      flex-wrap:wrap;\n",
              "      gap: 12px;\n",
              "    }\n",
              "\n",
              "    .colab-df-convert {\n",
              "      background-color: #E8F0FE;\n",
              "      border: none;\n",
              "      border-radius: 50%;\n",
              "      cursor: pointer;\n",
              "      display: none;\n",
              "      fill: #1967D2;\n",
              "      height: 32px;\n",
              "      padding: 0 0 0 0;\n",
              "      width: 32px;\n",
              "    }\n",
              "\n",
              "    .colab-df-convert:hover {\n",
              "      background-color: #E2EBFA;\n",
              "      box-shadow: 0px 1px 2px rgba(60, 64, 67, 0.3), 0px 1px 3px 1px rgba(60, 64, 67, 0.15);\n",
              "      fill: #174EA6;\n",
              "    }\n",
              "\n",
              "    [theme=dark] .colab-df-convert {\n",
              "      background-color: #3B4455;\n",
              "      fill: #D2E3FC;\n",
              "    }\n",
              "\n",
              "    [theme=dark] .colab-df-convert:hover {\n",
              "      background-color: #434B5C;\n",
              "      box-shadow: 0px 1px 3px 1px rgba(0, 0, 0, 0.15);\n",
              "      filter: drop-shadow(0px 1px 2px rgba(0, 0, 0, 0.3));\n",
              "      fill: #FFFFFF;\n",
              "    }\n",
              "  </style>\n",
              "\n",
              "      <script>\n",
              "        const buttonEl =\n",
              "          document.querySelector('#df-28eb483b-ea70-4074-9338-e875e54ef387 button.colab-df-convert');\n",
              "        buttonEl.style.display =\n",
              "          google.colab.kernel.accessAllowed ? 'block' : 'none';\n",
              "\n",
              "        async function convertToInteractive(key) {\n",
              "          const element = document.querySelector('#df-28eb483b-ea70-4074-9338-e875e54ef387');\n",
              "          const dataTable =\n",
              "            await google.colab.kernel.invokeFunction('convertToInteractive',\n",
              "                                                     [key], {});\n",
              "          if (!dataTable) return;\n",
              "\n",
              "          const docLinkHtml = 'Like what you see? Visit the ' +\n",
              "            '<a target=\"_blank\" href=https://colab.research.google.com/notebooks/data_table.ipynb>data table notebook</a>'\n",
              "            + ' to learn more about interactive tables.';\n",
              "          element.innerHTML = '';\n",
              "          dataTable['output_type'] = 'display_data';\n",
              "          await google.colab.output.renderOutput(dataTable, element);\n",
              "          const docLink = document.createElement('div');\n",
              "          docLink.innerHTML = docLinkHtml;\n",
              "          element.appendChild(docLink);\n",
              "        }\n",
              "      </script>\n",
              "    </div>\n",
              "  </div>\n",
              "  "
            ],
            "text/plain": [
              "  gender car reality  child_num  ...  Worked Workable Unemployed  ability\n",
              "0      F   N       N          0  ...    12.9     18.1        5.2  3970.59\n",
              "1      F   N       Y          1  ...     4.2     11.2        7.0  6991.53\n",
              "\n",
              "[2 rows x 24 columns]"
            ]
          },
          "metadata": {},
          "execution_count": 317
        }
      ]
    },
    {
      "cell_type": "markdown",
      "source": [
        "## sincerity: 성실성. (소득*업무기간/근무가능연수)"
      ],
      "metadata": {
        "id": "3eHeJZPfAJHM"
      }
    },
    {
      "cell_type": "code",
      "source": [
        "for df in [train, test]:\n",
        "  df['sincerity'] = ( df['income_total'] * df['Worked'] / df['Workable'] ).round(2)"
      ],
      "metadata": {
        "id": "6CjGO5H-AOin"
      },
      "execution_count": null,
      "outputs": []
    },
    {
      "cell_type": "code",
      "source": [
        "train.head(2)"
      ],
      "metadata": {
        "colab": {
          "base_uri": "https://localhost:8080/",
          "height": 245
        },
        "id": "XagbemuVAZGt",
        "outputId": "d1871c43-1bd5-4a34-e008-38003e470176"
      },
      "execution_count": null,
      "outputs": [
        {
          "output_type": "execute_result",
          "data": {
            "text/html": [
              "\n",
              "  <div id=\"df-5d72832c-bdf3-47b2-9824-dafa4face74f\">\n",
              "    <div class=\"colab-df-container\">\n",
              "      <div>\n",
              "<style scoped>\n",
              "    .dataframe tbody tr th:only-of-type {\n",
              "        vertical-align: middle;\n",
              "    }\n",
              "\n",
              "    .dataframe tbody tr th {\n",
              "        vertical-align: top;\n",
              "    }\n",
              "\n",
              "    .dataframe thead th {\n",
              "        text-align: right;\n",
              "    }\n",
              "</style>\n",
              "<table border=\"1\" class=\"dataframe\">\n",
              "  <thead>\n",
              "    <tr style=\"text-align: right;\">\n",
              "      <th></th>\n",
              "      <th>gender</th>\n",
              "      <th>car</th>\n",
              "      <th>reality</th>\n",
              "      <th>child_num</th>\n",
              "      <th>income_total</th>\n",
              "      <th>income_type</th>\n",
              "      <th>edu_type</th>\n",
              "      <th>family_type</th>\n",
              "      <th>house_type</th>\n",
              "      <th>DAYS_BIRTH</th>\n",
              "      <th>DAYS_EMPLOYED</th>\n",
              "      <th>work_phone</th>\n",
              "      <th>phone</th>\n",
              "      <th>email</th>\n",
              "      <th>occyp_type</th>\n",
              "      <th>family_size</th>\n",
              "      <th>begin_month</th>\n",
              "      <th>credit</th>\n",
              "      <th>occyp_type_</th>\n",
              "      <th>Age</th>\n",
              "      <th>Worked</th>\n",
              "      <th>Workable</th>\n",
              "      <th>Unemployed</th>\n",
              "      <th>ability</th>\n",
              "      <th>sincerity</th>\n",
              "    </tr>\n",
              "  </thead>\n",
              "  <tbody>\n",
              "    <tr>\n",
              "      <th>0</th>\n",
              "      <td>F</td>\n",
              "      <td>N</td>\n",
              "      <td>N</td>\n",
              "      <td>0</td>\n",
              "      <td>202500.0</td>\n",
              "      <td>Commercial associate</td>\n",
              "      <td>Higher education</td>\n",
              "      <td>Married</td>\n",
              "      <td>Municipal apartment</td>\n",
              "      <td>13899</td>\n",
              "      <td>-4709</td>\n",
              "      <td>0</td>\n",
              "      <td>0</td>\n",
              "      <td>0</td>\n",
              "      <td>NaN</td>\n",
              "      <td>2.0</td>\n",
              "      <td>-6.0</td>\n",
              "      <td>1.0</td>\n",
              "      <td>NaN</td>\n",
              "      <td>38.1</td>\n",
              "      <td>12.9</td>\n",
              "      <td>18.1</td>\n",
              "      <td>5.2</td>\n",
              "      <td>3970.59</td>\n",
              "      <td>144323.2</td>\n",
              "    </tr>\n",
              "    <tr>\n",
              "      <th>1</th>\n",
              "      <td>F</td>\n",
              "      <td>N</td>\n",
              "      <td>Y</td>\n",
              "      <td>1</td>\n",
              "      <td>247500.0</td>\n",
              "      <td>Commercial associate</td>\n",
              "      <td>Secondary / secondary special</td>\n",
              "      <td>Civil marriage</td>\n",
              "      <td>House / apartment</td>\n",
              "      <td>11380</td>\n",
              "      <td>-1540</td>\n",
              "      <td>0</td>\n",
              "      <td>0</td>\n",
              "      <td>1</td>\n",
              "      <td>Laborers</td>\n",
              "      <td>3.0</td>\n",
              "      <td>-5.0</td>\n",
              "      <td>1.0</td>\n",
              "      <td>Laborers</td>\n",
              "      <td>31.2</td>\n",
              "      <td>4.2</td>\n",
              "      <td>11.2</td>\n",
              "      <td>7.0</td>\n",
              "      <td>6991.53</td>\n",
              "      <td>92812.5</td>\n",
              "    </tr>\n",
              "  </tbody>\n",
              "</table>\n",
              "</div>\n",
              "      <button class=\"colab-df-convert\" onclick=\"convertToInteractive('df-5d72832c-bdf3-47b2-9824-dafa4face74f')\"\n",
              "              title=\"Convert this dataframe to an interactive table.\"\n",
              "              style=\"display:none;\">\n",
              "        \n",
              "  <svg xmlns=\"http://www.w3.org/2000/svg\" height=\"24px\"viewBox=\"0 0 24 24\"\n",
              "       width=\"24px\">\n",
              "    <path d=\"M0 0h24v24H0V0z\" fill=\"none\"/>\n",
              "    <path d=\"M18.56 5.44l.94 2.06.94-2.06 2.06-.94-2.06-.94-.94-2.06-.94 2.06-2.06.94zm-11 1L8.5 8.5l.94-2.06 2.06-.94-2.06-.94L8.5 2.5l-.94 2.06-2.06.94zm10 10l.94 2.06.94-2.06 2.06-.94-2.06-.94-.94-2.06-.94 2.06-2.06.94z\"/><path d=\"M17.41 7.96l-1.37-1.37c-.4-.4-.92-.59-1.43-.59-.52 0-1.04.2-1.43.59L10.3 9.45l-7.72 7.72c-.78.78-.78 2.05 0 2.83L4 21.41c.39.39.9.59 1.41.59.51 0 1.02-.2 1.41-.59l7.78-7.78 2.81-2.81c.8-.78.8-2.07 0-2.86zM5.41 20L4 18.59l7.72-7.72 1.47 1.35L5.41 20z\"/>\n",
              "  </svg>\n",
              "      </button>\n",
              "      \n",
              "  <style>\n",
              "    .colab-df-container {\n",
              "      display:flex;\n",
              "      flex-wrap:wrap;\n",
              "      gap: 12px;\n",
              "    }\n",
              "\n",
              "    .colab-df-convert {\n",
              "      background-color: #E8F0FE;\n",
              "      border: none;\n",
              "      border-radius: 50%;\n",
              "      cursor: pointer;\n",
              "      display: none;\n",
              "      fill: #1967D2;\n",
              "      height: 32px;\n",
              "      padding: 0 0 0 0;\n",
              "      width: 32px;\n",
              "    }\n",
              "\n",
              "    .colab-df-convert:hover {\n",
              "      background-color: #E2EBFA;\n",
              "      box-shadow: 0px 1px 2px rgba(60, 64, 67, 0.3), 0px 1px 3px 1px rgba(60, 64, 67, 0.15);\n",
              "      fill: #174EA6;\n",
              "    }\n",
              "\n",
              "    [theme=dark] .colab-df-convert {\n",
              "      background-color: #3B4455;\n",
              "      fill: #D2E3FC;\n",
              "    }\n",
              "\n",
              "    [theme=dark] .colab-df-convert:hover {\n",
              "      background-color: #434B5C;\n",
              "      box-shadow: 0px 1px 3px 1px rgba(0, 0, 0, 0.15);\n",
              "      filter: drop-shadow(0px 1px 2px rgba(0, 0, 0, 0.3));\n",
              "      fill: #FFFFFF;\n",
              "    }\n",
              "  </style>\n",
              "\n",
              "      <script>\n",
              "        const buttonEl =\n",
              "          document.querySelector('#df-5d72832c-bdf3-47b2-9824-dafa4face74f button.colab-df-convert');\n",
              "        buttonEl.style.display =\n",
              "          google.colab.kernel.accessAllowed ? 'block' : 'none';\n",
              "\n",
              "        async function convertToInteractive(key) {\n",
              "          const element = document.querySelector('#df-5d72832c-bdf3-47b2-9824-dafa4face74f');\n",
              "          const dataTable =\n",
              "            await google.colab.kernel.invokeFunction('convertToInteractive',\n",
              "                                                     [key], {});\n",
              "          if (!dataTable) return;\n",
              "\n",
              "          const docLinkHtml = 'Like what you see? Visit the ' +\n",
              "            '<a target=\"_blank\" href=https://colab.research.google.com/notebooks/data_table.ipynb>data table notebook</a>'\n",
              "            + ' to learn more about interactive tables.';\n",
              "          element.innerHTML = '';\n",
              "          dataTable['output_type'] = 'display_data';\n",
              "          await google.colab.output.renderOutput(dataTable, element);\n",
              "          const docLink = document.createElement('div');\n",
              "          docLink.innerHTML = docLinkHtml;\n",
              "          element.appendChild(docLink);\n",
              "        }\n",
              "      </script>\n",
              "    </div>\n",
              "  </div>\n",
              "  "
            ],
            "text/plain": [
              "  gender car reality  child_num  ...  Workable Unemployed  ability sincerity\n",
              "0      F   N       N          0  ...      18.1        5.2  3970.59  144323.2\n",
              "1      F   N       Y          1  ...      11.2        7.0  6991.53   92812.5\n",
              "\n",
              "[2 rows x 25 columns]"
            ]
          },
          "metadata": {},
          "execution_count": 319
        }
      ]
    },
    {
      "cell_type": "markdown",
      "source": [
        "## 1위 코드에 있었던 변수들(소득/가족수, ID)"
      ],
      "metadata": {
        "id": "Y0GUdZAjA1j-"
      }
    },
    {
      "cell_type": "code",
      "source": [
        "# for df in [train, test]:\n",
        "#     #income_mean: 소득/ 가족 수\n",
        "#     df['income_mean'] = df['income_total'] / df['family_size']\n",
        "\n",
        "#     #ID 생성: 각 컬럼의 값들을 더해서 고유한 사람을 파악(*한 사람이 여러 개 카드를 만들 가능성을 고려해 begin_month는 제외함)\n",
        "#     df['ID'] = \\\n",
        "#     df['child_num'].astype(str) + '_' + df['income_total'].astype(str) + '_' +\\\n",
        "#     df['DAYS_BIRTH'].astype(str) + '_' + df['DAYS_EMPLOYED'].astype(str) + '_' +\\\n",
        "#     df['work_phone'].astype(str) + '_' + df['phone'].astype(str) + '_' +\\\n",
        "#     df['email'].astype(str) + '_' + df['family_size'].astype(str) + '_' +\\\n",
        "#     df['gender'].astype(str) + '_' + df['car'].astype(str) + '_' +\\\n",
        "#     df['reality'].astype(str) + '_' + df['income_type'].astype(str) + '_' +\\\n",
        "#     df['edu_type'].astype(str) + '_' + df['family_type'].astype(str) + '_' +\\\n",
        "#     df['house_type'].astype(str) + '_' + df['occyp_type'].astype(str)"
      ],
      "metadata": {
        "id": "um0WTzkZA4c9"
      },
      "execution_count": null,
      "outputs": []
    },
    {
      "cell_type": "code",
      "source": [
        "for df in [train,test]:\n",
        "    # before_EMPLOYED: 고용되기 전까지의 일수\n",
        "    df['before_EMPLOYED'] = df['DAYS_BIRTH'] - df['DAYS_EMPLOYED']\n",
        "    df['income_total_befofeEMP_ratio'] = df['income_total'] / df['before_EMPLOYED']\n",
        "    df['before_EMPLOYED_m'] = np.floor(df['before_EMPLOYED'] / 30) - ((np.floor(df['before_EMPLOYED'] / 30) / 12).astype(int) * 12)\n",
        "    df['before_EMPLOYED_w'] = np.floor(df['before_EMPLOYED'] / 7) - ((np.floor(df['before_EMPLOYED'] / 7) / 4).astype(int) * 4)\n",
        "\n",
        "    #DAYS_BIRTH 파생변수- Age(나이), 태어난 월, 태어난 주(출생연도의 n주차)\n",
        "    df['Age'] = df['DAYS_BIRTH'] // 365\n",
        "    df['DAYS_BIRTH_m'] = np.floor(df['DAYS_BIRTH'] / 30) - ((np.floor(df['DAYS_BIRTH'] / 30) / 12).astype(int) * 12)\n",
        "    df['DAYS_BIRTH_w'] = np.floor(df['DAYS_BIRTH'] / 7) - ((np.floor(df['DAYS_BIRTH'] / 7) / 4).astype(int) * 4)\n",
        "\n",
        "\n",
        "    #DAYS_EMPLOYED_m 파생변수- EMPLOYED(근속연수), DAYS_EMPLOYED_m(고용된 달) ,DAYS_EMPLOYED_w(고용된 주(고용연도의 n주차))\n",
        "    df['EMPLOYED'] = df['DAYS_EMPLOYED'] // 365\n",
        "    df['DAYS_EMPLOYED_m'] = np.floor(df['DAYS_EMPLOYED'] / 30) - ((np.floor(df['DAYS_EMPLOYED'] / 30) / 12).astype(int) * 12)\n",
        "    df['DAYS_EMPLOYED_w'] = np.floor(df['DAYS_EMPLOYED'] / 7) - ((np.floor(df['DAYS_EMPLOYED'] / 7) / 4).astype(int) * 4)\n",
        "\n",
        "    #ability: 소득/(살아온 일수+ 근무일수)\n",
        "    df['ability'] = df['income_total'] / (df['DAYS_BIRTH'] + df['DAYS_EMPLOYED'])\n",
        "\n",
        "    #income_mean: 소득/ 가족 수\n",
        "    df['income_mean'] = df['income_total'] / df['family_size']\n",
        "\n",
        "    #ID 생성: 각 컬럼의 값들을 더해서 고유한 사람을 파악(*한 사람이 여러 개 카드를 만들 가능성을 고려해 begin_month는 제외함)\n",
        "    df['ID'] = \\\n",
        "    df['child_num'].astype(str) + '_' + df['income_total'].astype(str) + '_' +\\\n",
        "    df['DAYS_BIRTH'].astype(str) + '_' + df['DAYS_EMPLOYED'].astype(str) + '_' +\\\n",
        "    df['work_phone'].astype(str) + '_' + df['phone'].astype(str) + '_' +\\\n",
        "    df['email'].astype(str) + '_' + df['family_size'].astype(str) + '_' +\\\n",
        "    df['gender'].astype(str) + '_' + df['car'].astype(str) + '_' +\\\n",
        "    df['reality'].astype(str) + '_' + df['income_type'].astype(str) + '_' +\\\n",
        "    df['edu_type'].astype(str) + '_' + df['family_type'].astype(str) + '_' +\\\n",
        "    df['house_type'].astype(str) + '_' + df['occyp_type'].astype(str)"
      ],
      "metadata": {
        "id": "T18D06Ttl2JA"
      },
      "execution_count": null,
      "outputs": []
    },
    {
      "cell_type": "code",
      "source": [
        "train.head(2)"
      ],
      "metadata": {
        "colab": {
          "base_uri": "https://localhost:8080/",
          "height": 245
        },
        "id": "JnKwLQ5aBDP0",
        "outputId": "146d410b-c10f-42e3-80d7-489684674797"
      },
      "execution_count": null,
      "outputs": [
        {
          "output_type": "execute_result",
          "data": {
            "text/html": [
              "\n",
              "  <div id=\"df-2dd035a5-44af-4333-bd39-722f9e1126c3\">\n",
              "    <div class=\"colab-df-container\">\n",
              "      <div>\n",
              "<style scoped>\n",
              "    .dataframe tbody tr th:only-of-type {\n",
              "        vertical-align: middle;\n",
              "    }\n",
              "\n",
              "    .dataframe tbody tr th {\n",
              "        vertical-align: top;\n",
              "    }\n",
              "\n",
              "    .dataframe thead th {\n",
              "        text-align: right;\n",
              "    }\n",
              "</style>\n",
              "<table border=\"1\" class=\"dataframe\">\n",
              "  <thead>\n",
              "    <tr style=\"text-align: right;\">\n",
              "      <th></th>\n",
              "      <th>gender</th>\n",
              "      <th>car</th>\n",
              "      <th>reality</th>\n",
              "      <th>child_num</th>\n",
              "      <th>income_total</th>\n",
              "      <th>income_type</th>\n",
              "      <th>edu_type</th>\n",
              "      <th>family_type</th>\n",
              "      <th>house_type</th>\n",
              "      <th>DAYS_BIRTH</th>\n",
              "      <th>DAYS_EMPLOYED</th>\n",
              "      <th>work_phone</th>\n",
              "      <th>phone</th>\n",
              "      <th>email</th>\n",
              "      <th>occyp_type</th>\n",
              "      <th>family_size</th>\n",
              "      <th>begin_month</th>\n",
              "      <th>credit</th>\n",
              "      <th>occyp_type_</th>\n",
              "      <th>Age</th>\n",
              "      <th>Worked</th>\n",
              "      <th>Workable</th>\n",
              "      <th>Unemployed</th>\n",
              "      <th>ability</th>\n",
              "      <th>sincerity</th>\n",
              "      <th>income_mean</th>\n",
              "      <th>ID</th>\n",
              "    </tr>\n",
              "  </thead>\n",
              "  <tbody>\n",
              "    <tr>\n",
              "      <th>0</th>\n",
              "      <td>F</td>\n",
              "      <td>N</td>\n",
              "      <td>N</td>\n",
              "      <td>0</td>\n",
              "      <td>202500.0</td>\n",
              "      <td>Commercial associate</td>\n",
              "      <td>Higher education</td>\n",
              "      <td>Married</td>\n",
              "      <td>Municipal apartment</td>\n",
              "      <td>13899</td>\n",
              "      <td>-4709</td>\n",
              "      <td>0</td>\n",
              "      <td>0</td>\n",
              "      <td>0</td>\n",
              "      <td>NaN</td>\n",
              "      <td>2.0</td>\n",
              "      <td>-6.0</td>\n",
              "      <td>1.0</td>\n",
              "      <td>NaN</td>\n",
              "      <td>38.1</td>\n",
              "      <td>12.9</td>\n",
              "      <td>18.1</td>\n",
              "      <td>5.2</td>\n",
              "      <td>3970.59</td>\n",
              "      <td>144323.2</td>\n",
              "      <td>101250.0</td>\n",
              "      <td>0_202500.0_13899_-4709_0_0_0_2.0_F_N_N_Commerc...</td>\n",
              "    </tr>\n",
              "    <tr>\n",
              "      <th>1</th>\n",
              "      <td>F</td>\n",
              "      <td>N</td>\n",
              "      <td>Y</td>\n",
              "      <td>1</td>\n",
              "      <td>247500.0</td>\n",
              "      <td>Commercial associate</td>\n",
              "      <td>Secondary / secondary special</td>\n",
              "      <td>Civil marriage</td>\n",
              "      <td>House / apartment</td>\n",
              "      <td>11380</td>\n",
              "      <td>-1540</td>\n",
              "      <td>0</td>\n",
              "      <td>0</td>\n",
              "      <td>1</td>\n",
              "      <td>Laborers</td>\n",
              "      <td>3.0</td>\n",
              "      <td>-5.0</td>\n",
              "      <td>1.0</td>\n",
              "      <td>Laborers</td>\n",
              "      <td>31.2</td>\n",
              "      <td>4.2</td>\n",
              "      <td>11.2</td>\n",
              "      <td>7.0</td>\n",
              "      <td>6991.53</td>\n",
              "      <td>92812.5</td>\n",
              "      <td>82500.0</td>\n",
              "      <td>1_247500.0_11380_-1540_0_0_1_3.0_F_N_Y_Commerc...</td>\n",
              "    </tr>\n",
              "  </tbody>\n",
              "</table>\n",
              "</div>\n",
              "      <button class=\"colab-df-convert\" onclick=\"convertToInteractive('df-2dd035a5-44af-4333-bd39-722f9e1126c3')\"\n",
              "              title=\"Convert this dataframe to an interactive table.\"\n",
              "              style=\"display:none;\">\n",
              "        \n",
              "  <svg xmlns=\"http://www.w3.org/2000/svg\" height=\"24px\"viewBox=\"0 0 24 24\"\n",
              "       width=\"24px\">\n",
              "    <path d=\"M0 0h24v24H0V0z\" fill=\"none\"/>\n",
              "    <path d=\"M18.56 5.44l.94 2.06.94-2.06 2.06-.94-2.06-.94-.94-2.06-.94 2.06-2.06.94zm-11 1L8.5 8.5l.94-2.06 2.06-.94-2.06-.94L8.5 2.5l-.94 2.06-2.06.94zm10 10l.94 2.06.94-2.06 2.06-.94-2.06-.94-.94-2.06-.94 2.06-2.06.94z\"/><path d=\"M17.41 7.96l-1.37-1.37c-.4-.4-.92-.59-1.43-.59-.52 0-1.04.2-1.43.59L10.3 9.45l-7.72 7.72c-.78.78-.78 2.05 0 2.83L4 21.41c.39.39.9.59 1.41.59.51 0 1.02-.2 1.41-.59l7.78-7.78 2.81-2.81c.8-.78.8-2.07 0-2.86zM5.41 20L4 18.59l7.72-7.72 1.47 1.35L5.41 20z\"/>\n",
              "  </svg>\n",
              "      </button>\n",
              "      \n",
              "  <style>\n",
              "    .colab-df-container {\n",
              "      display:flex;\n",
              "      flex-wrap:wrap;\n",
              "      gap: 12px;\n",
              "    }\n",
              "\n",
              "    .colab-df-convert {\n",
              "      background-color: #E8F0FE;\n",
              "      border: none;\n",
              "      border-radius: 50%;\n",
              "      cursor: pointer;\n",
              "      display: none;\n",
              "      fill: #1967D2;\n",
              "      height: 32px;\n",
              "      padding: 0 0 0 0;\n",
              "      width: 32px;\n",
              "    }\n",
              "\n",
              "    .colab-df-convert:hover {\n",
              "      background-color: #E2EBFA;\n",
              "      box-shadow: 0px 1px 2px rgba(60, 64, 67, 0.3), 0px 1px 3px 1px rgba(60, 64, 67, 0.15);\n",
              "      fill: #174EA6;\n",
              "    }\n",
              "\n",
              "    [theme=dark] .colab-df-convert {\n",
              "      background-color: #3B4455;\n",
              "      fill: #D2E3FC;\n",
              "    }\n",
              "\n",
              "    [theme=dark] .colab-df-convert:hover {\n",
              "      background-color: #434B5C;\n",
              "      box-shadow: 0px 1px 3px 1px rgba(0, 0, 0, 0.15);\n",
              "      filter: drop-shadow(0px 1px 2px rgba(0, 0, 0, 0.3));\n",
              "      fill: #FFFFFF;\n",
              "    }\n",
              "  </style>\n",
              "\n",
              "      <script>\n",
              "        const buttonEl =\n",
              "          document.querySelector('#df-2dd035a5-44af-4333-bd39-722f9e1126c3 button.colab-df-convert');\n",
              "        buttonEl.style.display =\n",
              "          google.colab.kernel.accessAllowed ? 'block' : 'none';\n",
              "\n",
              "        async function convertToInteractive(key) {\n",
              "          const element = document.querySelector('#df-2dd035a5-44af-4333-bd39-722f9e1126c3');\n",
              "          const dataTable =\n",
              "            await google.colab.kernel.invokeFunction('convertToInteractive',\n",
              "                                                     [key], {});\n",
              "          if (!dataTable) return;\n",
              "\n",
              "          const docLinkHtml = 'Like what you see? Visit the ' +\n",
              "            '<a target=\"_blank\" href=https://colab.research.google.com/notebooks/data_table.ipynb>data table notebook</a>'\n",
              "            + ' to learn more about interactive tables.';\n",
              "          element.innerHTML = '';\n",
              "          dataTable['output_type'] = 'display_data';\n",
              "          await google.colab.output.renderOutput(dataTable, element);\n",
              "          const docLink = document.createElement('div');\n",
              "          docLink.innerHTML = docLinkHtml;\n",
              "          element.appendChild(docLink);\n",
              "        }\n",
              "      </script>\n",
              "    </div>\n",
              "  </div>\n",
              "  "
            ],
            "text/plain": [
              "  gender car  ... income_mean                                                 ID\n",
              "0      F   N  ...    101250.0  0_202500.0_13899_-4709_0_0_0_2.0_F_N_N_Commerc...\n",
              "1      F   N  ...     82500.0  1_247500.0_11380_-1540_0_0_1_3.0_F_N_Y_Commerc...\n",
              "\n",
              "[2 rows x 27 columns]"
            ]
          },
          "metadata": {},
          "execution_count": 321
        }
      ]
    },
    {
      "cell_type": "markdown",
      "source": [
        "## 1위 코드에 있었던 쓸데없어보이는 변수들..은 일단 하지 말자"
      ],
      "metadata": {
        "id": "yYZn88OqBUZL"
      }
    },
    {
      "cell_type": "markdown",
      "source": [
        "# 돌려보자!"
      ],
      "metadata": {
        "id": "WY_M3kNCCg6L"
      }
    },
    {
      "cell_type": "code",
      "source": [
        "for df in [train,test]:\n",
        "    df['income_total'] = np.log1p(1+df['income_total'])"
      ],
      "metadata": {
        "id": "hI0IEZKyCjV1"
      },
      "execution_count": null,
      "outputs": []
    },
    {
      "cell_type": "code",
      "source": [
        "numerical_feats = train.dtypes[train.dtypes != \"object\"].index.tolist()\n",
        "numerical_feats.remove('credit')\n",
        "print(\"Number of Numerical features: \", len(numerical_feats))\n",
        "\n",
        "categorical_feats = train.dtypes[train.dtypes == \"object\"].index.tolist()\n",
        "print(\"Number of Categorical features: \", len(categorical_feats))"
      ],
      "metadata": {
        "colab": {
          "base_uri": "https://localhost:8080/"
        },
        "id": "woGOY4feCngx",
        "outputId": "b3e303f4-3f97-4d03-9fa8-06ba575e119b"
      },
      "execution_count": null,
      "outputs": [
        {
          "output_type": "stream",
          "name": "stdout",
          "text": [
            "Number of Numerical features:  16\n",
            "Number of Categorical features:  10\n"
          ]
        }
      ]
    },
    {
      "cell_type": "code",
      "source": [
        "numerical_feats"
      ],
      "metadata": {
        "colab": {
          "base_uri": "https://localhost:8080/"
        },
        "id": "-0cV6doXCnev",
        "outputId": "6b5e8584-0215-4389-d1f8-fdca795fb0dd"
      },
      "execution_count": null,
      "outputs": [
        {
          "output_type": "execute_result",
          "data": {
            "text/plain": [
              "['child_num',\n",
              " 'income_total',\n",
              " 'DAYS_BIRTH',\n",
              " 'DAYS_EMPLOYED',\n",
              " 'work_phone',\n",
              " 'phone',\n",
              " 'email',\n",
              " 'family_size',\n",
              " 'begin_month',\n",
              " 'Age',\n",
              " 'Worked',\n",
              " 'Workable',\n",
              " 'Unemployed',\n",
              " 'ability',\n",
              " 'sincerity',\n",
              " 'income_mean']"
            ]
          },
          "metadata": {},
          "execution_count": 324
        }
      ]
    },
    {
      "cell_type": "code",
      "source": [
        "categorical_feats"
      ],
      "metadata": {
        "colab": {
          "base_uri": "https://localhost:8080/"
        },
        "id": "7Y48_CPBCncd",
        "outputId": "7d5ee5ce-d7ed-4a6a-f838-725ed3979b6b"
      },
      "execution_count": null,
      "outputs": [
        {
          "output_type": "execute_result",
          "data": {
            "text/plain": [
              "['gender',\n",
              " 'car',\n",
              " 'reality',\n",
              " 'income_type',\n",
              " 'edu_type',\n",
              " 'family_type',\n",
              " 'house_type',\n",
              " 'occyp_type',\n",
              " 'occyp_type_',\n",
              " 'ID']"
            ]
          },
          "metadata": {},
          "execution_count": 325
        }
      ]
    },
    {
      "cell_type": "code",
      "source": [
        "encoder = OrdinalEncoder(categorical_feats)\n",
        "train[categorical_feats] = encoder.fit_transform(train[categorical_feats], train['credit'])\n",
        "test[categorical_feats] = encoder.transform(test[categorical_feats])\n",
        "\n",
        "train['ID'] = train['ID'].astype('int64')\n",
        "test['ID'] = test['ID'].astype('int64')"
      ],
      "metadata": {
        "id": "dUJOpQ5MCnaM"
      },
      "execution_count": null,
      "outputs": []
    },
    {
      "cell_type": "code",
      "source": [
        "# 범주형 변수 제외하고 클러스터링\n",
        "kmeans_train = train.drop(['credit'], axis=1)\n",
        "kmeans_train=kmeans_train[numerical_feats]\n",
        "kmeans = KMeans(n_clusters=36, random_state=42).fit(kmeans_train)\n",
        "train['cluster'] = kmeans.predict(kmeans_train)\n",
        "test['cluster'] = kmeans.predict(test[numerical_feats])"
      ],
      "metadata": {
        "id": "hQ821FCDCnYO"
      },
      "execution_count": null,
      "outputs": []
    },
    {
      "cell_type": "code",
      "source": [
        "numerical_feats.remove('income_total')\n",
        "scaler = StandardScaler()\n",
        "train[numerical_feats] = scaler.fit_transform(train[numerical_feats])\n",
        "test[numerical_feats] = scaler.transform(test[numerical_feats])"
      ],
      "metadata": {
        "id": "yzC8im3qC4oC"
      },
      "execution_count": null,
      "outputs": []
    },
    {
      "cell_type": "code",
      "source": [
        "train.head()"
      ],
      "metadata": {
        "colab": {
          "base_uri": "https://localhost:8080/",
          "height": 270
        },
        "id": "oNEENMmuC4lt",
        "outputId": "4c765685-7acf-4e07-d3c2-b63ae09db3df"
      },
      "execution_count": null,
      "outputs": [
        {
          "output_type": "execute_result",
          "data": {
            "text/html": [
              "\n",
              "  <div id=\"df-9dea1792-944e-48a6-95d8-fcb35e4d4ca7\">\n",
              "    <div class=\"colab-df-container\">\n",
              "      <div>\n",
              "<style scoped>\n",
              "    .dataframe tbody tr th:only-of-type {\n",
              "        vertical-align: middle;\n",
              "    }\n",
              "\n",
              "    .dataframe tbody tr th {\n",
              "        vertical-align: top;\n",
              "    }\n",
              "\n",
              "    .dataframe thead th {\n",
              "        text-align: right;\n",
              "    }\n",
              "</style>\n",
              "<table border=\"1\" class=\"dataframe\">\n",
              "  <thead>\n",
              "    <tr style=\"text-align: right;\">\n",
              "      <th></th>\n",
              "      <th>gender</th>\n",
              "      <th>car</th>\n",
              "      <th>reality</th>\n",
              "      <th>child_num</th>\n",
              "      <th>income_total</th>\n",
              "      <th>income_type</th>\n",
              "      <th>edu_type</th>\n",
              "      <th>family_type</th>\n",
              "      <th>house_type</th>\n",
              "      <th>DAYS_BIRTH</th>\n",
              "      <th>DAYS_EMPLOYED</th>\n",
              "      <th>work_phone</th>\n",
              "      <th>phone</th>\n",
              "      <th>email</th>\n",
              "      <th>occyp_type</th>\n",
              "      <th>family_size</th>\n",
              "      <th>begin_month</th>\n",
              "      <th>credit</th>\n",
              "      <th>occyp_type_</th>\n",
              "      <th>Age</th>\n",
              "      <th>Worked</th>\n",
              "      <th>Workable</th>\n",
              "      <th>Unemployed</th>\n",
              "      <th>ability</th>\n",
              "      <th>sincerity</th>\n",
              "      <th>income_mean</th>\n",
              "      <th>ID</th>\n",
              "      <th>cluster</th>\n",
              "    </tr>\n",
              "  </thead>\n",
              "  <tbody>\n",
              "    <tr>\n",
              "      <th>0</th>\n",
              "      <td>1</td>\n",
              "      <td>1</td>\n",
              "      <td>1</td>\n",
              "      <td>-0.589850</td>\n",
              "      <td>12.218505</td>\n",
              "      <td>1</td>\n",
              "      <td>1</td>\n",
              "      <td>1</td>\n",
              "      <td>1</td>\n",
              "      <td>-0.490076</td>\n",
              "      <td>-0.463988</td>\n",
              "      <td>-0.538321</td>\n",
              "      <td>-0.645632</td>\n",
              "      <td>-0.316977</td>\n",
              "      <td>1</td>\n",
              "      <td>-0.216262</td>\n",
              "      <td>1.215242</td>\n",
              "      <td>1.0</td>\n",
              "      <td>1</td>\n",
              "      <td>-0.488305</td>\n",
              "      <td>0.465899</td>\n",
              "      <td>-0.488305</td>\n",
              "      <td>-0.988059</td>\n",
              "      <td>0.010513</td>\n",
              "      <td>0.962233</td>\n",
              "      <td>0.002062</td>\n",
              "      <td>1</td>\n",
              "      <td>31</td>\n",
              "    </tr>\n",
              "    <tr>\n",
              "      <th>1</th>\n",
              "      <td>1</td>\n",
              "      <td>1</td>\n",
              "      <td>2</td>\n",
              "      <td>0.795036</td>\n",
              "      <td>12.419174</td>\n",
              "      <td>1</td>\n",
              "      <td>2</td>\n",
              "      <td>2</td>\n",
              "      <td>2</td>\n",
              "      <td>-1.089581</td>\n",
              "      <td>-0.440938</td>\n",
              "      <td>-0.538321</td>\n",
              "      <td>-0.645632</td>\n",
              "      <td>3.154805</td>\n",
              "      <td>2</td>\n",
              "      <td>0.897294</td>\n",
              "      <td>1.275633</td>\n",
              "      <td>1.0</td>\n",
              "      <td>2</td>\n",
              "      <td>-1.087676</td>\n",
              "      <td>-0.681544</td>\n",
              "      <td>-1.087676</td>\n",
              "      <td>-0.793769</td>\n",
              "      <td>1.210644</td>\n",
              "      <td>0.237878</td>\n",
              "      <td>-0.254157</td>\n",
              "      <td>2</td>\n",
              "      <td>7</td>\n",
              "    </tr>\n",
              "    <tr>\n",
              "      <th>2</th>\n",
              "      <td>2</td>\n",
              "      <td>2</td>\n",
              "      <td>2</td>\n",
              "      <td>-0.589850</td>\n",
              "      <td>13.017007</td>\n",
              "      <td>2</td>\n",
              "      <td>1</td>\n",
              "      <td>1</td>\n",
              "      <td>2</td>\n",
              "      <td>0.744635</td>\n",
              "      <td>-0.461988</td>\n",
              "      <td>-0.538321</td>\n",
              "      <td>1.548870</td>\n",
              "      <td>-0.316977</td>\n",
              "      <td>3</td>\n",
              "      <td>-0.216262</td>\n",
              "      <td>0.248981</td>\n",
              "      <td>2.0</td>\n",
              "      <td>3</td>\n",
              "      <td>0.745184</td>\n",
              "      <td>0.360387</td>\n",
              "      <td>0.745184</td>\n",
              "      <td>0.631024</td>\n",
              "      <td>1.209075</td>\n",
              "      <td>1.303279</td>\n",
              "      <td>1.693108</td>\n",
              "      <td>3</td>\n",
              "      <td>26</td>\n",
              "    </tr>\n",
              "    <tr>\n",
              "      <th>3</th>\n",
              "      <td>1</td>\n",
              "      <td>1</td>\n",
              "      <td>2</td>\n",
              "      <td>-0.589850</td>\n",
              "      <td>12.218505</td>\n",
              "      <td>1</td>\n",
              "      <td>2</td>\n",
              "      <td>1</td>\n",
              "      <td>2</td>\n",
              "      <td>-0.207101</td>\n",
              "      <td>-0.444953</td>\n",
              "      <td>-0.538321</td>\n",
              "      <td>1.548870</td>\n",
              "      <td>-0.316977</td>\n",
              "      <td>4</td>\n",
              "      <td>-0.216262</td>\n",
              "      <td>-0.656889</td>\n",
              "      <td>0.0</td>\n",
              "      <td>4</td>\n",
              "      <td>-0.210335</td>\n",
              "      <td>-0.483709</td>\n",
              "      <td>-0.210335</td>\n",
              "      <td>0.134505</td>\n",
              "      <td>0.144758</td>\n",
              "      <td>-0.305238</td>\n",
              "      <td>0.002062</td>\n",
              "      <td>4</td>\n",
              "      <td>18</td>\n",
              "    </tr>\n",
              "    <tr>\n",
              "      <th>4</th>\n",
              "      <td>1</td>\n",
              "      <td>2</td>\n",
              "      <td>2</td>\n",
              "      <td>-0.589850</td>\n",
              "      <td>11.967193</td>\n",
              "      <td>3</td>\n",
              "      <td>1</td>\n",
              "      <td>1</td>\n",
              "      <td>2</td>\n",
              "      <td>-0.219239</td>\n",
              "      <td>-0.445048</td>\n",
              "      <td>-0.538321</td>\n",
              "      <td>-0.645632</td>\n",
              "      <td>-0.316977</td>\n",
              "      <td>3</td>\n",
              "      <td>-0.216262</td>\n",
              "      <td>0.007416</td>\n",
              "      <td>2.0</td>\n",
              "      <td>3</td>\n",
              "      <td>-0.219022</td>\n",
              "      <td>-0.470520</td>\n",
              "      <td>-0.219022</td>\n",
              "      <td>0.112917</td>\n",
              "      <td>-0.235609</td>\n",
              "      <td>-0.461336</td>\n",
              "      <td>-0.305401</td>\n",
              "      <td>5</td>\n",
              "      <td>0</td>\n",
              "    </tr>\n",
              "  </tbody>\n",
              "</table>\n",
              "</div>\n",
              "      <button class=\"colab-df-convert\" onclick=\"convertToInteractive('df-9dea1792-944e-48a6-95d8-fcb35e4d4ca7')\"\n",
              "              title=\"Convert this dataframe to an interactive table.\"\n",
              "              style=\"display:none;\">\n",
              "        \n",
              "  <svg xmlns=\"http://www.w3.org/2000/svg\" height=\"24px\"viewBox=\"0 0 24 24\"\n",
              "       width=\"24px\">\n",
              "    <path d=\"M0 0h24v24H0V0z\" fill=\"none\"/>\n",
              "    <path d=\"M18.56 5.44l.94 2.06.94-2.06 2.06-.94-2.06-.94-.94-2.06-.94 2.06-2.06.94zm-11 1L8.5 8.5l.94-2.06 2.06-.94-2.06-.94L8.5 2.5l-.94 2.06-2.06.94zm10 10l.94 2.06.94-2.06 2.06-.94-2.06-.94-.94-2.06-.94 2.06-2.06.94z\"/><path d=\"M17.41 7.96l-1.37-1.37c-.4-.4-.92-.59-1.43-.59-.52 0-1.04.2-1.43.59L10.3 9.45l-7.72 7.72c-.78.78-.78 2.05 0 2.83L4 21.41c.39.39.9.59 1.41.59.51 0 1.02-.2 1.41-.59l7.78-7.78 2.81-2.81c.8-.78.8-2.07 0-2.86zM5.41 20L4 18.59l7.72-7.72 1.47 1.35L5.41 20z\"/>\n",
              "  </svg>\n",
              "      </button>\n",
              "      \n",
              "  <style>\n",
              "    .colab-df-container {\n",
              "      display:flex;\n",
              "      flex-wrap:wrap;\n",
              "      gap: 12px;\n",
              "    }\n",
              "\n",
              "    .colab-df-convert {\n",
              "      background-color: #E8F0FE;\n",
              "      border: none;\n",
              "      border-radius: 50%;\n",
              "      cursor: pointer;\n",
              "      display: none;\n",
              "      fill: #1967D2;\n",
              "      height: 32px;\n",
              "      padding: 0 0 0 0;\n",
              "      width: 32px;\n",
              "    }\n",
              "\n",
              "    .colab-df-convert:hover {\n",
              "      background-color: #E2EBFA;\n",
              "      box-shadow: 0px 1px 2px rgba(60, 64, 67, 0.3), 0px 1px 3px 1px rgba(60, 64, 67, 0.15);\n",
              "      fill: #174EA6;\n",
              "    }\n",
              "\n",
              "    [theme=dark] .colab-df-convert {\n",
              "      background-color: #3B4455;\n",
              "      fill: #D2E3FC;\n",
              "    }\n",
              "\n",
              "    [theme=dark] .colab-df-convert:hover {\n",
              "      background-color: #434B5C;\n",
              "      box-shadow: 0px 1px 3px 1px rgba(0, 0, 0, 0.15);\n",
              "      filter: drop-shadow(0px 1px 2px rgba(0, 0, 0, 0.3));\n",
              "      fill: #FFFFFF;\n",
              "    }\n",
              "  </style>\n",
              "\n",
              "      <script>\n",
              "        const buttonEl =\n",
              "          document.querySelector('#df-9dea1792-944e-48a6-95d8-fcb35e4d4ca7 button.colab-df-convert');\n",
              "        buttonEl.style.display =\n",
              "          google.colab.kernel.accessAllowed ? 'block' : 'none';\n",
              "\n",
              "        async function convertToInteractive(key) {\n",
              "          const element = document.querySelector('#df-9dea1792-944e-48a6-95d8-fcb35e4d4ca7');\n",
              "          const dataTable =\n",
              "            await google.colab.kernel.invokeFunction('convertToInteractive',\n",
              "                                                     [key], {});\n",
              "          if (!dataTable) return;\n",
              "\n",
              "          const docLinkHtml = 'Like what you see? Visit the ' +\n",
              "            '<a target=\"_blank\" href=https://colab.research.google.com/notebooks/data_table.ipynb>data table notebook</a>'\n",
              "            + ' to learn more about interactive tables.';\n",
              "          element.innerHTML = '';\n",
              "          dataTable['output_type'] = 'display_data';\n",
              "          await google.colab.output.renderOutput(dataTable, element);\n",
              "          const docLink = document.createElement('div');\n",
              "          docLink.innerHTML = docLinkHtml;\n",
              "          element.appendChild(docLink);\n",
              "        }\n",
              "      </script>\n",
              "    </div>\n",
              "  </div>\n",
              "  "
            ],
            "text/plain": [
              "   gender  car  reality  child_num  ...  sincerity  income_mean  ID  cluster\n",
              "0       1    1        1  -0.589850  ...   0.962233     0.002062   1       31\n",
              "1       1    1        2   0.795036  ...   0.237878    -0.254157   2        7\n",
              "2       2    2        2  -0.589850  ...   1.303279     1.693108   3       26\n",
              "3       1    1        2  -0.589850  ...  -0.305238     0.002062   4       18\n",
              "4       1    2        2  -0.589850  ...  -0.461336    -0.305401   5        0\n",
              "\n",
              "[5 rows x 28 columns]"
            ]
          },
          "metadata": {},
          "execution_count": 329
        }
      ]
    },
    {
      "cell_type": "code",
      "source": [
        "from sklearn.metrics import classification_report"
      ],
      "metadata": {
        "id": "cRt37s7Yh0wh"
      },
      "execution_count": null,
      "outputs": []
    },
    {
      "cell_type": "code",
      "source": [
        "!pip install svc"
      ],
      "metadata": {
        "colab": {
          "base_uri": "https://localhost:8080/"
        },
        "id": "5tGUj1gUi9F5",
        "outputId": "af678962-1e39-4720-8c3d-82a807205656"
      },
      "execution_count": null,
      "outputs": [
        {
          "output_type": "stream",
          "name": "stdout",
          "text": [
            "Collecting svc\n",
            "  Downloading SVC-0.1.tar.gz (1.5 kB)\n",
            "Requirement already satisfied: xlrd>=0.9.3 in /usr/local/lib/python3.7/dist-packages (from svc) (1.1.0)\n",
            "Building wheels for collected packages: svc\n",
            "  Building wheel for svc (setup.py) ... \u001b[?25l\u001b[?25hdone\n",
            "  Created wheel for svc: filename=SVC-0.1-py3-none-any.whl size=1891 sha256=e501a0cf4b66f93db83d53ea5333f3cc2aca3161704e7f018b9369cd847cd771\n",
            "  Stored in directory: /root/.cache/pip/wheels/a8/05/19/97c2a15450caccc712f403b15e6cd5dc32decd32603156aacb\n",
            "Successfully built svc\n",
            "Installing collected packages: svc\n",
            "Successfully installed svc-0.1\n"
          ]
        }
      ]
    },
    {
      "cell_type": "markdown",
      "source": [
        "## catboost"
      ],
      "metadata": {
        "id": "nYRX1yEEC_rN"
      }
    },
    {
      "cell_type": "code",
      "source": [
        "n_est = 2000\n",
        "seed = 42\n",
        "n_fold = 15\n",
        "n_class = 3\n",
        "\n",
        "target = 'credit'\n",
        "X = train.drop(target, axis=1)\n",
        "y = train[target]\n",
        "X_test = test"
      ],
      "metadata": {
        "id": "6R3AgTonC4ji"
      },
      "execution_count": null,
      "outputs": []
    },
    {
      "cell_type": "code",
      "source": [],
      "metadata": {
        "id": "cXbNWGsWXwf8"
      },
      "execution_count": null,
      "outputs": []
    },
    {
      "cell_type": "code",
      "source": [
        "skfold = StratifiedKFold(n_splits=n_fold, shuffle=True, random_state=seed)\n",
        "folds=[]\n",
        "for train_idx, valid_idx in skfold.split(X, y):\n",
        "        folds.append((train_idx, valid_idx))\n",
        "\n",
        "cat_pred = np.zeros((X.shape[0], n_class))\n",
        "cat_pred_test = np.zeros((X_test.shape[0], n_class))\n",
        "cat_cols = ['income_type', 'edu_type', 'family_type', 'house_type', 'occyp_type', 'ID']\n",
        "for fold in range(n_fold):\n",
        "  print(f'\\n----------------- Fold {fold} -----------------\\n')\n",
        "  train_idx, valid_idx = folds[fold]\n",
        "  X_train, X_valid, y_train, y_valid = X.iloc[train_idx], X.iloc[valid_idx], y[train_idx], y[valid_idx]\n",
        "  train_data = Pool(data=X_train, label=y_train, cat_features=cat_cols)\n",
        "  valid_data = Pool(data=X_valid, label=y_valid, cat_features=cat_cols)\n",
        "\n",
        "  model_cat = CatBoostClassifier(n_estimators=n_est, random_seed=seed)\n",
        "  model_cat.fit(train_data, eval_set=valid_data, use_best_model=True, early_stopping_rounds=200, verbose=100)\n",
        "\n",
        "  cat_pred[valid_idx] = model_cat.predict_proba(X_valid)\n",
        "  cat_pred_test += model_cat.predict_proba(X_test) / n_fold\n",
        "  print(f'CV Log Loss Score: {log_loss(y_valid, cat_pred[valid_idx]):.6f}')\n",
        "\n",
        "print(f'\\tLog Loss: {log_loss(y, cat_pred):.6f}')"
      ],
      "metadata": {
        "colab": {
          "base_uri": "https://localhost:8080/"
        },
        "id": "3r8cqG8iDCsd",
        "outputId": "dabe0328-8416-49ac-cb72-0f9c171207d7"
      },
      "execution_count": null,
      "outputs": [
        {
          "output_type": "stream",
          "name": "stdout",
          "text": [
            "\n",
            "----------------- Fold 0 -----------------\n",
            "\n",
            "Learning rate set to 0.088345\n",
            "0:\tlearn: 1.0484003\ttest: 1.0472646\tbest: 1.0472646 (0)\ttotal: 121ms\tremaining: 4m 1s\n",
            "100:\tlearn: 0.7100965\ttest: 0.6437057\tbest: 0.6437057 (100)\ttotal: 9.21s\tremaining: 2m 53s\n",
            "200:\tlearn: 0.6948345\ttest: 0.6396448\tbest: 0.6394836 (193)\ttotal: 19.7s\tremaining: 2m 55s\n",
            "300:\tlearn: 0.6822027\ttest: 0.6386599\tbest: 0.6386251 (298)\ttotal: 30.2s\tremaining: 2m 50s\n",
            "400:\tlearn: 0.6696278\ttest: 0.6390515\tbest: 0.6386251 (298)\ttotal: 40.8s\tremaining: 2m 42s\n",
            "500:\tlearn: 0.6569167\ttest: 0.6389563\tbest: 0.6384433 (438)\ttotal: 51.5s\tremaining: 2m 34s\n",
            "600:\tlearn: 0.6445251\ttest: 0.6389262\tbest: 0.6380200 (541)\ttotal: 1m 2s\tremaining: 2m 24s\n",
            "700:\tlearn: 0.6327446\ttest: 0.6396775\tbest: 0.6380200 (541)\ttotal: 1m 12s\tremaining: 2m 14s\n",
            "Stopped by overfitting detector  (200 iterations wait)\n",
            "\n",
            "bestTest = 0.6380200302\n",
            "bestIteration = 541\n",
            "\n",
            "Shrink model to first 542 iterations.\n",
            "CV Log Loss Score: 0.638020\n",
            "\n",
            "----------------- Fold 1 -----------------\n",
            "\n",
            "Learning rate set to 0.088345\n",
            "0:\tlearn: 1.0483130\ttest: 1.0478550\tbest: 1.0478550 (0)\ttotal: 117ms\tremaining: 3m 54s\n",
            "100:\tlearn: 0.7083548\ttest: 0.6725005\tbest: 0.6721257 (90)\ttotal: 9.23s\tremaining: 2m 53s\n",
            "200:\tlearn: 0.6935639\ttest: 0.6702043\tbest: 0.6701599 (198)\ttotal: 19.5s\tremaining: 2m 54s\n",
            "300:\tlearn: 0.6810877\ttest: 0.6696020\tbest: 0.6693345 (271)\ttotal: 29.9s\tremaining: 2m 48s\n",
            "400:\tlearn: 0.6680486\ttest: 0.6685585\tbest: 0.6684452 (397)\ttotal: 40.3s\tremaining: 2m 40s\n",
            "500:\tlearn: 0.6552083\ttest: 0.6679668\tbest: 0.6678276 (487)\ttotal: 51.1s\tremaining: 2m 32s\n",
            "600:\tlearn: 0.6426366\ttest: 0.6685275\tbest: 0.6678276 (487)\ttotal: 1m 1s\tremaining: 2m 23s\n",
            "Stopped by overfitting detector  (200 iterations wait)\n",
            "\n",
            "bestTest = 0.6678275527\n",
            "bestIteration = 487\n",
            "\n",
            "Shrink model to first 488 iterations.\n",
            "CV Log Loss Score: 0.667828\n",
            "\n",
            "----------------- Fold 2 -----------------\n",
            "\n",
            "Learning rate set to 0.088345\n",
            "0:\tlearn: 1.0489076\ttest: 1.0493629\tbest: 1.0493629 (0)\ttotal: 113ms\tremaining: 3m 45s\n",
            "100:\tlearn: 0.7098561\ttest: 0.6500620\tbest: 0.6500620 (100)\ttotal: 8.84s\tremaining: 2m 46s\n",
            "200:\tlearn: 0.6933953\ttest: 0.6470881\tbest: 0.6469853 (196)\ttotal: 19.1s\tremaining: 2m 50s\n",
            "300:\tlearn: 0.6802294\ttest: 0.6463544\tbest: 0.6462897 (289)\ttotal: 29.5s\tremaining: 2m 46s\n",
            "400:\tlearn: 0.6672028\ttest: 0.6446968\tbest: 0.6446968 (400)\ttotal: 39.9s\tremaining: 2m 39s\n",
            "500:\tlearn: 0.6548740\ttest: 0.6448842\tbest: 0.6444364 (417)\ttotal: 50.7s\tremaining: 2m 31s\n",
            "600:\tlearn: 0.6439292\ttest: 0.6452190\tbest: 0.6444364 (417)\ttotal: 1m 1s\tremaining: 2m 22s\n",
            "Stopped by overfitting detector  (200 iterations wait)\n",
            "\n",
            "bestTest = 0.6444364386\n",
            "bestIteration = 417\n",
            "\n",
            "Shrink model to first 418 iterations.\n",
            "CV Log Loss Score: 0.644436\n",
            "\n",
            "----------------- Fold 3 -----------------\n",
            "\n",
            "Learning rate set to 0.088345\n",
            "0:\tlearn: 1.0480947\ttest: 1.0496050\tbest: 1.0496050 (0)\ttotal: 117ms\tremaining: 3m 54s\n",
            "100:\tlearn: 0.7103274\ttest: 0.6532747\tbest: 0.6532747 (100)\ttotal: 8.99s\tremaining: 2m 49s\n",
            "200:\tlearn: 0.6951054\ttest: 0.6496441\tbest: 0.6496441 (200)\ttotal: 19.3s\tremaining: 2m 52s\n",
            "300:\tlearn: 0.6810488\ttest: 0.6480701\tbest: 0.6480701 (300)\ttotal: 29.7s\tremaining: 2m 47s\n",
            "400:\tlearn: 0.6676412\ttest: 0.6481272\tbest: 0.6479257 (314)\ttotal: 40.4s\tremaining: 2m 41s\n",
            "500:\tlearn: 0.6552094\ttest: 0.6484524\tbest: 0.6479257 (314)\ttotal: 51s\tremaining: 2m 32s\n",
            "Stopped by overfitting detector  (200 iterations wait)\n",
            "\n",
            "bestTest = 0.6479257174\n",
            "bestIteration = 314\n",
            "\n",
            "Shrink model to first 315 iterations.\n",
            "CV Log Loss Score: 0.647926\n",
            "\n",
            "----------------- Fold 4 -----------------\n",
            "\n",
            "Learning rate set to 0.088345\n",
            "0:\tlearn: 1.0482758\ttest: 1.0482870\tbest: 1.0482870 (0)\ttotal: 76.9ms\tremaining: 2m 33s\n",
            "100:\tlearn: 0.7092002\ttest: 0.6705424\tbest: 0.6704976 (99)\ttotal: 8.91s\tremaining: 2m 47s\n",
            "200:\tlearn: 0.6929162\ttest: 0.6681825\tbest: 0.6681825 (200)\ttotal: 19.1s\tremaining: 2m 50s\n",
            "300:\tlearn: 0.6805036\ttest: 0.6669842\tbest: 0.6669842 (300)\ttotal: 29.5s\tremaining: 2m 46s\n",
            "400:\tlearn: 0.6684990\ttest: 0.6669149\tbest: 0.6666574 (316)\ttotal: 40s\tremaining: 2m 39s\n",
            "500:\tlearn: 0.6572246\ttest: 0.6663864\tbest: 0.6660308 (479)\ttotal: 50.6s\tremaining: 2m 31s\n",
            "600:\tlearn: 0.6446246\ttest: 0.6666736\tbest: 0.6660308 (479)\ttotal: 1m 1s\tremaining: 2m 22s\n",
            "Stopped by overfitting detector  (200 iterations wait)\n",
            "\n",
            "bestTest = 0.666030787\n",
            "bestIteration = 479\n",
            "\n",
            "Shrink model to first 480 iterations.\n",
            "CV Log Loss Score: 0.666031\n",
            "\n",
            "----------------- Fold 5 -----------------\n",
            "\n",
            "Learning rate set to 0.088345\n",
            "0:\tlearn: 1.0483276\ttest: 1.0475572\tbest: 1.0475572 (0)\ttotal: 127ms\tremaining: 4m 13s\n",
            "100:\tlearn: 0.7109938\ttest: 0.6781228\tbest: 0.6780977 (99)\ttotal: 8.86s\tremaining: 2m 46s\n",
            "200:\tlearn: 0.6950778\ttest: 0.6759289\tbest: 0.6754483 (174)\ttotal: 19.1s\tremaining: 2m 50s\n",
            "300:\tlearn: 0.6831069\ttest: 0.6754964\tbest: 0.6754483 (174)\ttotal: 29.7s\tremaining: 2m 47s\n",
            "400:\tlearn: 0.6705156\ttest: 0.6751745\tbest: 0.6750925 (391)\ttotal: 40.3s\tremaining: 2m 40s\n",
            "500:\tlearn: 0.6579909\ttest: 0.6748341\tbest: 0.6745324 (480)\ttotal: 50.9s\tremaining: 2m 32s\n",
            "600:\tlearn: 0.6459410\ttest: 0.6750068\tbest: 0.6743504 (515)\ttotal: 1m 1s\tremaining: 2m 22s\n",
            "700:\tlearn: 0.6348885\ttest: 0.6750634\tbest: 0.6743504 (515)\ttotal: 1m 12s\tremaining: 2m 13s\n",
            "Stopped by overfitting detector  (200 iterations wait)\n",
            "\n",
            "bestTest = 0.6743504444\n",
            "bestIteration = 515\n",
            "\n",
            "Shrink model to first 516 iterations.\n",
            "CV Log Loss Score: 0.674350\n",
            "\n",
            "----------------- Fold 6 -----------------\n",
            "\n",
            "Learning rate set to 0.088345\n",
            "0:\tlearn: 1.0485429\ttest: 1.0472477\tbest: 1.0472477 (0)\ttotal: 121ms\tremaining: 4m 2s\n",
            "100:\tlearn: 0.7083444\ttest: 0.6702887\tbest: 0.6700747 (86)\ttotal: 9s\tremaining: 2m 49s\n",
            "200:\tlearn: 0.6936272\ttest: 0.6687046\tbest: 0.6684392 (178)\ttotal: 19.5s\tremaining: 2m 54s\n",
            "300:\tlearn: 0.6808358\ttest: 0.6681295\tbest: 0.6677002 (273)\ttotal: 29.9s\tremaining: 2m 49s\n",
            "400:\tlearn: 0.6684771\ttest: 0.6678531\tbest: 0.6675215 (377)\ttotal: 40.3s\tremaining: 2m 40s\n",
            "500:\tlearn: 0.6556312\ttest: 0.6683395\tbest: 0.6675215 (377)\ttotal: 50.9s\tremaining: 2m 32s\n",
            "Stopped by overfitting detector  (200 iterations wait)\n",
            "\n",
            "bestTest = 0.6675214717\n",
            "bestIteration = 377\n",
            "\n",
            "Shrink model to first 378 iterations.\n",
            "CV Log Loss Score: 0.667521\n",
            "\n",
            "----------------- Fold 7 -----------------\n",
            "\n",
            "Learning rate set to 0.088345\n",
            "0:\tlearn: 1.0481640\ttest: 1.0487951\tbest: 1.0487951 (0)\ttotal: 71.6ms\tremaining: 2m 23s\n",
            "100:\tlearn: 0.7084861\ttest: 0.6812057\tbest: 0.6811987 (99)\ttotal: 9s\tremaining: 2m 49s\n",
            "200:\tlearn: 0.6942085\ttest: 0.6768741\tbest: 0.6768741 (200)\ttotal: 19.3s\tremaining: 2m 52s\n",
            "300:\tlearn: 0.6811398\ttest: 0.6759708\tbest: 0.6759363 (297)\ttotal: 29.8s\tremaining: 2m 48s\n",
            "400:\tlearn: 0.6674801\ttest: 0.6776536\tbest: 0.6758494 (302)\ttotal: 40.3s\tremaining: 2m 40s\n",
            "500:\tlearn: 0.6544976\ttest: 0.6786363\tbest: 0.6758494 (302)\ttotal: 51.1s\tremaining: 2m 32s\n",
            "Stopped by overfitting detector  (200 iterations wait)\n",
            "\n",
            "bestTest = 0.6758493679\n",
            "bestIteration = 302\n",
            "\n",
            "Shrink model to first 303 iterations.\n",
            "CV Log Loss Score: 0.675849\n",
            "\n",
            "----------------- Fold 8 -----------------\n",
            "\n",
            "Learning rate set to 0.088345\n",
            "0:\tlearn: 1.0487781\ttest: 1.0498707\tbest: 1.0498707 (0)\ttotal: 117ms\tremaining: 3m 54s\n",
            "100:\tlearn: 0.7074197\ttest: 0.6807506\tbest: 0.6807506 (100)\ttotal: 8.81s\tremaining: 2m 45s\n",
            "200:\tlearn: 0.6919343\ttest: 0.6788654\tbest: 0.6785762 (188)\ttotal: 19.2s\tremaining: 2m 51s\n",
            "300:\tlearn: 0.6794791\ttest: 0.6790970\tbest: 0.6782494 (220)\ttotal: 29.7s\tremaining: 2m 47s\n",
            "400:\tlearn: 0.6665774\ttest: 0.6805644\tbest: 0.6782494 (220)\ttotal: 40.3s\tremaining: 2m 40s\n",
            "Stopped by overfitting detector  (200 iterations wait)\n",
            "\n",
            "bestTest = 0.6782493706\n",
            "bestIteration = 220\n",
            "\n",
            "Shrink model to first 221 iterations.\n",
            "CV Log Loss Score: 0.678249\n",
            "\n",
            "----------------- Fold 9 -----------------\n",
            "\n",
            "Learning rate set to 0.088345\n",
            "0:\tlearn: 1.0514325\ttest: 1.0512248\tbest: 1.0512248 (0)\ttotal: 36ms\tremaining: 1m 11s\n",
            "100:\tlearn: 0.7110735\ttest: 0.6595992\tbest: 0.6595436 (99)\ttotal: 8.79s\tremaining: 2m 45s\n",
            "200:\tlearn: 0.6951891\ttest: 0.6559961\tbest: 0.6558070 (191)\ttotal: 19.1s\tremaining: 2m 50s\n",
            "300:\tlearn: 0.6824769\ttest: 0.6548678\tbest: 0.6545070 (288)\ttotal: 29.3s\tremaining: 2m 45s\n",
            "400:\tlearn: 0.6690226\ttest: 0.6549885\tbest: 0.6545070 (288)\ttotal: 39.8s\tremaining: 2m 38s\n",
            "500:\tlearn: 0.6571382\ttest: 0.6553864\tbest: 0.6544459 (433)\ttotal: 50.4s\tremaining: 2m 30s\n",
            "600:\tlearn: 0.6446175\ttest: 0.6553778\tbest: 0.6544459 (433)\ttotal: 1m\tremaining: 2m 21s\n",
            "Stopped by overfitting detector  (200 iterations wait)\n",
            "\n",
            "bestTest = 0.654445904\n",
            "bestIteration = 433\n",
            "\n",
            "Shrink model to first 434 iterations.\n",
            "CV Log Loss Score: 0.654446\n",
            "\n",
            "----------------- Fold 10 -----------------\n",
            "\n",
            "Learning rate set to 0.088345\n",
            "0:\tlearn: 1.0482043\ttest: 1.0483851\tbest: 1.0483851 (0)\ttotal: 69.7ms\tremaining: 2m 19s\n",
            "100:\tlearn: 0.7110091\ttest: 0.6678045\tbest: 0.6678024 (98)\ttotal: 8.74s\tremaining: 2m 44s\n",
            "200:\tlearn: 0.6964058\ttest: 0.6644610\tbest: 0.6644610 (200)\ttotal: 18.8s\tremaining: 2m 48s\n",
            "300:\tlearn: 0.6828956\ttest: 0.6634819\tbest: 0.6631825 (283)\ttotal: 29.1s\tremaining: 2m 44s\n",
            "400:\tlearn: 0.6699093\ttest: 0.6635115\tbest: 0.6631825 (283)\ttotal: 39.5s\tremaining: 2m 37s\n",
            "500:\tlearn: 0.6581253\ttest: 0.6630580\tbest: 0.6627993 (442)\ttotal: 49.9s\tremaining: 2m 29s\n",
            "600:\tlearn: 0.6449960\ttest: 0.6629960\tbest: 0.6623830 (565)\ttotal: 1m\tremaining: 2m 19s\n",
            "700:\tlearn: 0.6328916\ttest: 0.6635732\tbest: 0.6623830 (565)\ttotal: 1m 10s\tremaining: 2m 11s\n",
            "Stopped by overfitting detector  (200 iterations wait)\n",
            "\n",
            "bestTest = 0.6623830075\n",
            "bestIteration = 565\n",
            "\n",
            "Shrink model to first 566 iterations.\n",
            "CV Log Loss Score: 0.662383\n",
            "\n",
            "----------------- Fold 11 -----------------\n",
            "\n",
            "Learning rate set to 0.088345\n",
            "0:\tlearn: 1.0481394\ttest: 1.0487894\tbest: 1.0487894 (0)\ttotal: 79.2ms\tremaining: 2m 38s\n",
            "100:\tlearn: 0.7070748\ttest: 0.6932121\tbest: 0.6932121 (100)\ttotal: 8.8s\tremaining: 2m 45s\n",
            "200:\tlearn: 0.6930873\ttest: 0.6920928\tbest: 0.6912432 (161)\ttotal: 19s\tremaining: 2m 49s\n",
            "300:\tlearn: 0.6793561\ttest: 0.6929126\tbest: 0.6912432 (161)\ttotal: 29.7s\tremaining: 2m 47s\n",
            "Stopped by overfitting detector  (200 iterations wait)\n",
            "\n",
            "bestTest = 0.691243187\n",
            "bestIteration = 161\n",
            "\n",
            "Shrink model to first 162 iterations.\n",
            "CV Log Loss Score: 0.691243\n",
            "\n",
            "----------------- Fold 12 -----------------\n",
            "\n",
            "Learning rate set to 0.088345\n",
            "0:\tlearn: 1.0481240\ttest: 1.0490702\tbest: 1.0490702 (0)\ttotal: 68.8ms\tremaining: 2m 17s\n",
            "100:\tlearn: 0.7104595\ttest: 0.6583071\tbest: 0.6583071 (100)\ttotal: 8.66s\tremaining: 2m 42s\n",
            "200:\tlearn: 0.6946867\ttest: 0.6571042\tbest: 0.6568310 (174)\ttotal: 18.9s\tremaining: 2m 49s\n",
            "300:\tlearn: 0.6809004\ttest: 0.6577043\tbest: 0.6565978 (255)\ttotal: 29.2s\tremaining: 2m 44s\n",
            "400:\tlearn: 0.6685112\ttest: 0.6567007\tbest: 0.6564933 (394)\ttotal: 39.4s\tremaining: 2m 37s\n",
            "500:\tlearn: 0.6560605\ttest: 0.6576295\tbest: 0.6563411 (434)\ttotal: 49.8s\tremaining: 2m 28s\n",
            "600:\tlearn: 0.6435514\ttest: 0.6583240\tbest: 0.6563411 (434)\ttotal: 1m\tremaining: 2m 20s\n",
            "Stopped by overfitting detector  (200 iterations wait)\n",
            "\n",
            "bestTest = 0.6563410611\n",
            "bestIteration = 434\n",
            "\n",
            "Shrink model to first 435 iterations.\n",
            "CV Log Loss Score: 0.656341\n",
            "\n",
            "----------------- Fold 13 -----------------\n",
            "\n",
            "Learning rate set to 0.088345\n",
            "0:\tlearn: 1.0485985\ttest: 1.0472213\tbest: 1.0472213 (0)\ttotal: 124ms\tremaining: 4m 8s\n",
            "100:\tlearn: 0.7099101\ttest: 0.6837035\tbest: 0.6836655 (97)\ttotal: 8.85s\tremaining: 2m 46s\n",
            "200:\tlearn: 0.6959907\ttest: 0.6834095\tbest: 0.6832461 (165)\ttotal: 19s\tremaining: 2m 49s\n",
            "300:\tlearn: 0.6824905\ttest: 0.6846348\tbest: 0.6831388 (228)\ttotal: 29.3s\tremaining: 2m 45s\n",
            "400:\tlearn: 0.6702534\ttest: 0.6847684\tbest: 0.6831388 (228)\ttotal: 39.6s\tremaining: 2m 38s\n",
            "Stopped by overfitting detector  (200 iterations wait)\n",
            "\n",
            "bestTest = 0.6831387635\n",
            "bestIteration = 228\n",
            "\n",
            "Shrink model to first 229 iterations.\n",
            "CV Log Loss Score: 0.683139\n",
            "\n",
            "----------------- Fold 14 -----------------\n",
            "\n",
            "Learning rate set to 0.088345\n",
            "0:\tlearn: 1.0483174\ttest: 1.0476078\tbest: 1.0476078 (0)\ttotal: 70.6ms\tremaining: 2m 21s\n",
            "100:\tlearn: 0.7094486\ttest: 0.6727656\tbest: 0.6727656 (100)\ttotal: 8.88s\tremaining: 2m 46s\n",
            "200:\tlearn: 0.6948632\ttest: 0.6691614\tbest: 0.6690745 (197)\ttotal: 19.1s\tremaining: 2m 51s\n",
            "300:\tlearn: 0.6814061\ttest: 0.6693276\tbest: 0.6690364 (204)\ttotal: 29.6s\tremaining: 2m 46s\n",
            "400:\tlearn: 0.6693961\ttest: 0.6697320\tbest: 0.6689836 (345)\ttotal: 40.2s\tremaining: 2m 40s\n",
            "500:\tlearn: 0.6570099\ttest: 0.6706594\tbest: 0.6689836 (345)\ttotal: 50.9s\tremaining: 2m 32s\n",
            "Stopped by overfitting detector  (200 iterations wait)\n",
            "\n",
            "bestTest = 0.6689835871\n",
            "bestIteration = 345\n",
            "\n",
            "Shrink model to first 346 iterations.\n",
            "CV Log Loss Score: 0.668984\n",
            "\tLog Loss: 0.665114\n"
          ]
        }
      ]
    },
    {
      "cell_type": "code",
      "source": [
        "from sklearn.datasets import make_blobs\n",
        "from sklearn.linear_model import LogisticRegression\n",
        "from sklearn.model_selection import train_test_split\n",
        "\n",
        "# 인위적인 데이터셋을 만듭니다\n",
        "X, y = make_blobs(random_state=seed)\n",
        "# 데이터와 타깃 레이블을 훈련 세트와 테스트 세트로 나눕니다\n",
        "X_train, X_test, y_train, y_test = train_test_split(X, y, random_state=seed)\n",
        "# 모델 객체를 만들고 훈련 세트로 학습시킵니다\n",
        "logreg = LogisticRegression().fit(X_train, y_train)\n",
        "# 모델을 테스트 세트로 평가합니다\n",
        "print(\"테스트 세트 점수: {:.2f}\".format(logreg.score(X_test, y_test)))"
      ],
      "metadata": {
        "colab": {
          "base_uri": "https://localhost:8080/"
        },
        "id": "Wy03syZjga0p",
        "outputId": "5fbd8175-2f8f-4924-954a-8ae25e26824e"
      },
      "execution_count": null,
      "outputs": [
        {
          "output_type": "stream",
          "name": "stdout",
          "text": [
            "테스트 세트 점수: 1.00\n"
          ]
        }
      ]
    },
    {
      "cell_type": "code",
      "source": [],
      "metadata": {
        "id": "GKQM0O9Ogxh1"
      },
      "execution_count": null,
      "outputs": []
    },
    {
      "cell_type": "code",
      "source": [
        "def plot_feature_importance(importance,names,model_type):\n",
        "\n",
        "    feature_importance = np.array(importance)\n",
        "    feature_names = np.array(names)\n",
        "\n",
        "    data={'feature_names':feature_names,'feature_importance':feature_importance}\n",
        "    fi_df = pd.DataFrame(data)\n",
        "\n",
        "    fi_df.sort_values(by=['feature_importance'], ascending=False,inplace=True)\n",
        "\n",
        "    plt.figure(figsize=(10,8))\n",
        "\n",
        "    sns.barplot(x=fi_df['feature_importance'], y=fi_df['feature_names'])\n",
        "\n",
        "    plt.title(model_type + ' Feature Importance')\n",
        "    plt.xlabel('Feature Importance')\n",
        "    plt.ylabel('Feature Names')"
      ],
      "metadata": {
        "id": "tWxOTMMfC4hF"
      },
      "execution_count": null,
      "outputs": []
    },
    {
      "cell_type": "code",
      "source": [
        "plot_feature_importance(model_cat.get_feature_importance(),X_test.columns,'CATBOOST')"
      ],
      "metadata": {
        "colab": {
          "base_uri": "https://localhost:8080/",
          "height": 513
        },
        "id": "Z2Ub0EwmCnV-",
        "outputId": "46d0f6d3-986c-446e-d585-514c53e3f06e"
      },
      "execution_count": null,
      "outputs": [
        {
          "output_type": "display_data",
          "data": {
            "image/png": "[encoded data removed]",
            "text/plain": [
              "<Figure size 720x576 with 1 Axes>"
            ]
          },
          "metadata": {
            "needs_background": "light"
          }
        }
      ]
    },
    {
      "cell_type": "code",
      "source": [
        "sub = pd.read_csv(path + 'sample_submission.csv')"
      ],
      "metadata": {
        "id": "oyHQQE_ODd_D"
      },
      "execution_count": null,
      "outputs": []
    },
    {
      "cell_type": "code",
      "source": [
        "sub.iloc[:, 1:] = cat_pred_test\n",
        "sub"
      ],
      "metadata": {
        "colab": {
          "base_uri": "https://localhost:8080/",
          "height": 423
        },
        "outputId": "d410099d-13e0-4e20-ef4b-5a1d7ddddfc1",
        "id": "cFBjJ-lqDd_E"
      },
      "execution_count": null,
      "outputs": [
        {
          "output_type": "execute_result",
          "data": {
            "text/html": [
              "\n",
              "  <div id=\"df-e359b44b-fc94-4635-b2f0-29f0d8380358\">\n",
              "    <div class=\"colab-df-container\">\n",
              "      <div>\n",
              "<style scoped>\n",
              "    .dataframe tbody tr th:only-of-type {\n",
              "        vertical-align: middle;\n",
              "    }\n",
              "\n",
              "    .dataframe tbody tr th {\n",
              "        vertical-align: top;\n",
              "    }\n",
              "\n",
              "    .dataframe thead th {\n",
              "        text-align: right;\n",
              "    }\n",
              "</style>\n",
              "<table border=\"1\" class=\"dataframe\">\n",
              "  <thead>\n",
              "    <tr style=\"text-align: right;\">\n",
              "      <th></th>\n",
              "      <th>index</th>\n",
              "      <th>0</th>\n",
              "      <th>1</th>\n",
              "      <th>2</th>\n",
              "    </tr>\n",
              "  </thead>\n",
              "  <tbody>\n",
              "    <tr>\n",
              "      <th>0</th>\n",
              "      <td>26457</td>\n",
              "      <td>0.097459</td>\n",
              "      <td>0.158771</td>\n",
              "      <td>0.743770</td>\n",
              "    </tr>\n",
              "    <tr>\n",
              "      <th>1</th>\n",
              "      <td>26458</td>\n",
              "      <td>0.332133</td>\n",
              "      <td>0.221086</td>\n",
              "      <td>0.446781</td>\n",
              "    </tr>\n",
              "    <tr>\n",
              "      <th>2</th>\n",
              "      <td>26459</td>\n",
              "      <td>0.035923</td>\n",
              "      <td>0.064388</td>\n",
              "      <td>0.899689</td>\n",
              "    </tr>\n",
              "    <tr>\n",
              "      <th>3</th>\n",
              "      <td>26460</td>\n",
              "      <td>0.053817</td>\n",
              "      <td>0.082501</td>\n",
              "      <td>0.863683</td>\n",
              "    </tr>\n",
              "    <tr>\n",
              "      <th>4</th>\n",
              "      <td>26461</td>\n",
              "      <td>0.089118</td>\n",
              "      <td>0.250353</td>\n",
              "      <td>0.660529</td>\n",
              "    </tr>\n",
              "    <tr>\n",
              "      <th>...</th>\n",
              "      <td>...</td>\n",
              "      <td>...</td>\n",
              "      <td>...</td>\n",
              "      <td>...</td>\n",
              "    </tr>\n",
              "    <tr>\n",
              "      <th>9995</th>\n",
              "      <td>36452</td>\n",
              "      <td>0.076454</td>\n",
              "      <td>0.229787</td>\n",
              "      <td>0.693759</td>\n",
              "    </tr>\n",
              "    <tr>\n",
              "      <th>9996</th>\n",
              "      <td>36453</td>\n",
              "      <td>0.326258</td>\n",
              "      <td>0.185588</td>\n",
              "      <td>0.488154</td>\n",
              "    </tr>\n",
              "    <tr>\n",
              "      <th>9997</th>\n",
              "      <td>36454</td>\n",
              "      <td>0.043965</td>\n",
              "      <td>0.097644</td>\n",
              "      <td>0.858390</td>\n",
              "    </tr>\n",
              "    <tr>\n",
              "      <th>9998</th>\n",
              "      <td>36455</td>\n",
              "      <td>0.134359</td>\n",
              "      <td>0.307196</td>\n",
              "      <td>0.558444</td>\n",
              "    </tr>\n",
              "    <tr>\n",
              "      <th>9999</th>\n",
              "      <td>36456</td>\n",
              "      <td>0.067534</td>\n",
              "      <td>0.420852</td>\n",
              "      <td>0.511614</td>\n",
              "    </tr>\n",
              "  </tbody>\n",
              "</table>\n",
              "<p>10000 rows × 4 columns</p>\n",
              "</div>\n",
              "      <button class=\"colab-df-convert\" onclick=\"convertToInteractive('df-e359b44b-fc94-4635-b2f0-29f0d8380358')\"\n",
              "              title=\"Convert this dataframe to an interactive table.\"\n",
              "              style=\"display:none;\">\n",
              "        \n",
              "  <svg xmlns=\"http://www.w3.org/2000/svg\" height=\"24px\"viewBox=\"0 0 24 24\"\n",
              "       width=\"24px\">\n",
              "    <path d=\"M0 0h24v24H0V0z\" fill=\"none\"/>\n",
              "    <path d=\"M18.56 5.44l.94 2.06.94-2.06 2.06-.94-2.06-.94-.94-2.06-.94 2.06-2.06.94zm-11 1L8.5 8.5l.94-2.06 2.06-.94-2.06-.94L8.5 2.5l-.94 2.06-2.06.94zm10 10l.94 2.06.94-2.06 2.06-.94-2.06-.94-.94-2.06-.94 2.06-2.06.94z\"/><path d=\"M17.41 7.96l-1.37-1.37c-.4-.4-.92-.59-1.43-.59-.52 0-1.04.2-1.43.59L10.3 9.45l-7.72 7.72c-.78.78-.78 2.05 0 2.83L4 21.41c.39.39.9.59 1.41.59.51 0 1.02-.2 1.41-.59l7.78-7.78 2.81-2.81c.8-.78.8-2.07 0-2.86zM5.41 20L4 18.59l7.72-7.72 1.47 1.35L5.41 20z\"/>\n",
              "  </svg>\n",
              "      </button>\n",
              "      \n",
              "  <style>\n",
              "    .colab-df-container {\n",
              "      display:flex;\n",
              "      flex-wrap:wrap;\n",
              "      gap: 12px;\n",
              "    }\n",
              "\n",
              "    .colab-df-convert {\n",
              "      background-color: #E8F0FE;\n",
              "      border: none;\n",
              "      border-radius: 50%;\n",
              "      cursor: pointer;\n",
              "      display: none;\n",
              "      fill: #1967D2;\n",
              "      height: 32px;\n",
              "      padding: 0 0 0 0;\n",
              "      width: 32px;\n",
              "    }\n",
              "\n",
              "    .colab-df-convert:hover {\n",
              "      background-color: #E2EBFA;\n",
              "      box-shadow: 0px 1px 2px rgba(60, 64, 67, 0.3), 0px 1px 3px 1px rgba(60, 64, 67, 0.15);\n",
              "      fill: #174EA6;\n",
              "    }\n",
              "\n",
              "    [theme=dark] .colab-df-convert {\n",
              "      background-color: #3B4455;\n",
              "      fill: #D2E3FC;\n",
              "    }\n",
              "\n",
              "    [theme=dark] .colab-df-convert:hover {\n",
              "      background-color: #434B5C;\n",
              "      box-shadow: 0px 1px 3px 1px rgba(0, 0, 0, 0.15);\n",
              "      filter: drop-shadow(0px 1px 2px rgba(0, 0, 0, 0.3));\n",
              "      fill: #FFFFFF;\n",
              "    }\n",
              "  </style>\n",
              "\n",
              "      <script>\n",
              "        const buttonEl =\n",
              "          document.querySelector('#df-e359b44b-fc94-4635-b2f0-29f0d8380358 button.colab-df-convert');\n",
              "        buttonEl.style.display =\n",
              "          google.colab.kernel.accessAllowed ? 'block' : 'none';\n",
              "\n",
              "        async function convertToInteractive(key) {\n",
              "          const element = document.querySelector('#df-e359b44b-fc94-4635-b2f0-29f0d8380358');\n",
              "          const dataTable =\n",
              "            await google.colab.kernel.invokeFunction('convertToInteractive',\n",
              "                                                     [key], {});\n",
              "          if (!dataTable) return;\n",
              "\n",
              "          const docLinkHtml = 'Like what you see? Visit the ' +\n",
              "            '<a target=\"_blank\" href=https://colab.research.google.com/notebooks/data_table.ipynb>data table notebook</a>'\n",
              "            + ' to learn more about interactive tables.';\n",
              "          element.innerHTML = '';\n",
              "          dataTable['output_type'] = 'display_data';\n",
              "          await google.colab.output.renderOutput(dataTable, element);\n",
              "          const docLink = document.createElement('div');\n",
              "          docLink.innerHTML = docLinkHtml;\n",
              "          element.appendChild(docLink);\n",
              "        }\n",
              "      </script>\n",
              "    </div>\n",
              "  </div>\n",
              "  "
            ],
            "text/plain": [
              "      index         0         1         2\n",
              "0     26457  0.097459  0.158771  0.743770\n",
              "1     26458  0.332133  0.221086  0.446781\n",
              "2     26459  0.035923  0.064388  0.899689\n",
              "3     26460  0.053817  0.082501  0.863683\n",
              "4     26461  0.089118  0.250353  0.660529\n",
              "...     ...       ...       ...       ...\n",
              "9995  36452  0.076454  0.229787  0.693759\n",
              "9996  36453  0.326258  0.185588  0.488154\n",
              "9997  36454  0.043965  0.097644  0.858390\n",
              "9998  36455  0.134359  0.307196  0.558444\n",
              "9999  36456  0.067534  0.420852  0.511614\n",
              "\n",
              "[10000 rows x 4 columns]"
            ]
          },
          "metadata": {},
          "execution_count": 263
        }
      ]
    },
    {
      "cell_type": "code",
      "source": [
        "sub.to_csv('0127_01_submission.csv', index=False)"
      ],
      "metadata": {
        "id": "365pk5bYDd_E"
      },
      "execution_count": null,
      "outputs": []
    },
    {
      "cell_type": "code",
      "source": [
        "# 사용한 df 저장\n",
        "train.to_csv('0127_01_train.csv')\n",
        "test.to_csv('0127_01_test.csv')"
      ],
      "metadata": {
        "id": "TFs8H5bgDV4J"
      },
      "execution_count": null,
      "outputs": []
    },
    {
      "cell_type": "code",
      "source": [
        "train.columns"
      ],
      "metadata": {
        "colab": {
          "base_uri": "https://localhost:8080/"
        },
        "id": "1j_8qQ9RDV2j",
        "outputId": "53bfad31-632b-41b8-faea-50e24b07a15d"
      },
      "execution_count": null,
      "outputs": [
        {
          "output_type": "execute_result",
          "data": {
            "text/plain": [
              "Index(['gender', 'car', 'reality', 'child_num', 'income_total', 'income_type',\n",
              "       'edu_type', 'family_type', 'house_type', 'DAYS_BIRTH', 'DAYS_EMPLOYED',\n",
              "       'work_phone', 'phone', 'email', 'occyp_type', 'family_size',\n",
              "       'begin_month', 'credit', 'occyp_type_', 'Age', 'Worked', 'Workable',\n",
              "       'Unemployed', 'ability', 'sincerity', 'income_mean', 'ID', 'cluster'],\n",
              "      dtype='object')"
            ]
          },
          "metadata": {},
          "execution_count": 266
        }
      ]
    },
    {
      "cell_type": "code",
      "source": [],
      "metadata": {
        "id": "IUGiZK_lDVxd"
      },
      "execution_count": null,
      "outputs": []
    },
    {
      "cell_type": "markdown",
      "source": [
        "# 이하는 원래 코드"
      ],
      "metadata": {
        "id": "LtFG1fggVyti"
      }
    },
    {
      "cell_type": "code",
      "source": [
        "train['DAYS_EMPLOYED'] = train['DAYS_EMPLOYED'].map(lambda x: 0 if x > 0 else x)\n",
        "test['DAYS_EMPLOYED'] = test['DAYS_EMPLOYED'].map(lambda x: 0 if x > 0 else x)"
      ],
      "metadata": {
        "id": "26E93Ve2H8lG"
      },
      "execution_count": null,
      "outputs": []
    },
    {
      "cell_type": "code",
      "source": [
        "feats = ['DAYS_BIRTH', 'begin_month', 'DAYS_EMPLOYED']\n",
        "for feat in feats:\n",
        "    train[feat]=np.abs(train[feat])\n",
        "    test[feat]=np.abs(test[feat])"
      ],
      "metadata": {
        "id": "TwVLl0krH_Ve"
      },
      "execution_count": null,
      "outputs": []
    },
    {
      "cell_type": "code",
      "source": [
        "for df in [train,test]:\n",
        "    # before_EMPLOYED: 고용되기 전까지의 일수\n",
        "    df['before_EMPLOYED'] = df['DAYS_BIRTH'] - df['DAYS_EMPLOYED']\n",
        "    df['income_total_befofeEMP_ratio'] = df['income_total'] / df['before_EMPLOYED']\n",
        "    df['before_EMPLOYED_m'] = np.floor(df['before_EMPLOYED'] / 30) - ((np.floor(df['before_EMPLOYED'] / 30) / 12).astype(int) * 12)\n",
        "    df['before_EMPLOYED_w'] = np.floor(df['before_EMPLOYED'] / 7) - ((np.floor(df['before_EMPLOYED'] / 7) / 4).astype(int) * 4)\n",
        "\n",
        "    #DAYS_BIRTH 파생변수- Age(나이), 태어난 월, 태어난 주(출생연도의 n주차)\n",
        "    df['Age'] = df['DAYS_BIRTH'] // 365\n",
        "    df['DAYS_BIRTH_m'] = np.floor(df['DAYS_BIRTH'] / 30) - ((np.floor(df['DAYS_BIRTH'] / 30) / 12).astype(int) * 12)\n",
        "    df['DAYS_BIRTH_w'] = np.floor(df['DAYS_BIRTH'] / 7) - ((np.floor(df['DAYS_BIRTH'] / 7) / 4).astype(int) * 4)\n",
        "\n",
        "\n",
        "    #DAYS_EMPLOYED_m 파생변수- EMPLOYED(근속연수), DAYS_EMPLOYED_m(고용된 달) ,DAYS_EMPLOYED_w(고용된 주(고용연도의 n주차))\n",
        "    df['EMPLOYED'] = df['DAYS_EMPLOYED'] // 365\n",
        "    df['DAYS_EMPLOYED_m'] = np.floor(df['DAYS_EMPLOYED'] / 30) - ((np.floor(df['DAYS_EMPLOYED'] / 30) / 12).astype(int) * 12)\n",
        "    df['DAYS_EMPLOYED_w'] = np.floor(df['DAYS_EMPLOYED'] / 7) - ((np.floor(df['DAYS_EMPLOYED'] / 7) / 4).astype(int) * 4)\n",
        "\n",
        "    #ability: 소득/(살아온 일수+ 근무일수)\n",
        "    df['ability'] = df['income_total'] / (df['DAYS_BIRTH'] + df['DAYS_EMPLOYED'])\n",
        "\n",
        "    #income_mean: 소득/ 가족 수\n",
        "    df['income_mean'] = df['income_total'] / df['family_size']\n",
        "\n",
        "    #ID 생성: 각 컬럼의 값들을 더해서 고유한 사람을 파악(*한 사람이 여러 개 카드를 만들 가능성을 고려해 begin_month는 제외함)\n",
        "    df['ID'] = \\\n",
        "    df['child_num'].astype(str) + '_' + df['income_total'].astype(str) + '_' +\\\n",
        "    df['DAYS_BIRTH'].astype(str) + '_' + df['DAYS_EMPLOYED'].astype(str) + '_' +\\\n",
        "    df['work_phone'].astype(str) + '_' + df['phone'].astype(str) + '_' +\\\n",
        "    df['email'].astype(str) + '_' + df['family_size'].astype(str) + '_' +\\\n",
        "    df['gender'].astype(str) + '_' + df['car'].astype(str) + '_' +\\\n",
        "    df['reality'].astype(str) + '_' + df['income_type'].astype(str) + '_' +\\\n",
        "    df['edu_type'].astype(str) + '_' + df['family_type'].astype(str) + '_' +\\\n",
        "    df['house_type'].astype(str) + '_' + df['occyp_type'].astype(str)"
      ],
      "metadata": {
        "id": "le5f9KvBIF-0"
      },
      "execution_count": null,
      "outputs": []
    },
    {
      "cell_type": "code",
      "source": [
        "cols = ['child_num', 'DAYS_BIRTH', 'DAYS_EMPLOYED',]\n",
        "train.drop(cols, axis=1, inplace=True)\n",
        "test.drop(cols, axis=1, inplace=True)"
      ],
      "metadata": {
        "id": "zxfluzilINSI"
      },
      "execution_count": null,
      "outputs": []
    },
    {
      "cell_type": "code",
      "source": [
        "for df in [train,test]:\n",
        "    df['income_total'] = np.log1p(1+df['income_total'])"
      ],
      "metadata": {
        "id": "TmAfUTeUIQwc"
      },
      "execution_count": null,
      "outputs": []
    },
    {
      "cell_type": "code",
      "source": [
        "numerical_feats = train.dtypes[train.dtypes != \"object\"].index.tolist()\n",
        "numerical_feats.remove('credit')\n",
        "print(\"Number of Numerical features: \", len(numerical_feats))\n",
        "\n",
        "categorical_feats = train.dtypes[train.dtypes == \"object\"].index.tolist()\n",
        "print(\"Number of Categorical features: \", len(categorical_feats))"
      ],
      "metadata": {
        "id": "FiwUTkhrIXpB",
        "colab": {
          "base_uri": "https://localhost:8080/"
        },
        "outputId": "c8dc5ed1-fb62-4576-db8c-4b53472d9d71"
      },
      "execution_count": null,
      "outputs": [
        {
          "output_type": "stream",
          "name": "stdout",
          "text": [
            "Number of Numerical features:  32\n",
            "Number of Categorical features:  1\n"
          ]
        }
      ]
    },
    {
      "cell_type": "code",
      "source": [
        "numerical_feats"
      ],
      "metadata": {
        "colab": {
          "base_uri": "https://localhost:8080/"
        },
        "id": "mgKVlGJDldD_",
        "outputId": "c9400598-e72c-4050-9856-5c460e7ca6b9"
      },
      "execution_count": null,
      "outputs": [
        {
          "output_type": "execute_result",
          "data": {
            "text/plain": [
              "['gender',\n",
              " 'car',\n",
              " 'reality',\n",
              " 'income_total',\n",
              " 'income_type',\n",
              " 'edu_type',\n",
              " 'family_type',\n",
              " 'house_type',\n",
              " 'work_phone',\n",
              " 'phone',\n",
              " 'email',\n",
              " 'occyp_type',\n",
              " 'family_size',\n",
              " 'begin_month',\n",
              " 'occyp_type_',\n",
              " 'Age',\n",
              " 'Worked',\n",
              " 'Workable',\n",
              " 'Unemployed',\n",
              " 'ability',\n",
              " 'sincerity',\n",
              " 'income_mean',\n",
              " 'cluster',\n",
              " 'before_EMPLOYED',\n",
              " 'income_total_befofeEMP_ratio',\n",
              " 'before_EMPLOYED_m',\n",
              " 'before_EMPLOYED_w',\n",
              " 'DAYS_BIRTH_m',\n",
              " 'DAYS_BIRTH_w',\n",
              " 'EMPLOYED',\n",
              " 'DAYS_EMPLOYED_m',\n",
              " 'DAYS_EMPLOYED_w']"
            ]
          },
          "metadata": {},
          "execution_count": 273
        }
      ]
    },
    {
      "cell_type": "code",
      "source": [
        "categorical_feats"
      ],
      "metadata": {
        "id": "65T9PbTVOT5Z",
        "colab": {
          "base_uri": "https://localhost:8080/"
        },
        "outputId": "6c79dd0d-b474-47fe-9c78-44f586072a2c"
      },
      "execution_count": null,
      "outputs": [
        {
          "output_type": "execute_result",
          "data": {
            "text/plain": [
              "['ID']"
            ]
          },
          "metadata": {},
          "execution_count": 274
        }
      ]
    },
    {
      "cell_type": "code",
      "source": [
        "for df in [train,test]:\n",
        "    df['income_total'] = np.log1p(1+df['income_total'])"
      ],
      "metadata": {
        "id": "sytgmAlSLLey"
      },
      "execution_count": null,
      "outputs": []
    },
    {
      "cell_type": "code",
      "source": [
        "encoder = OrdinalEncoder(categorical_feats)\n",
        "train[categorical_feats] = encoder.fit_transform(train[categorical_feats], train['credit'])\n",
        "test[categorical_feats] = encoder.transform(test[categorical_feats])\n",
        "\n",
        "train['ID'] = train['ID'].astype('int64')\n",
        "test['ID'] = test['ID'].astype('int64')"
      ],
      "metadata": {
        "id": "KhQ_VLezKvch"
      },
      "execution_count": null,
      "outputs": []
    },
    {
      "cell_type": "code",
      "source": [
        "# kmeans_train = train.drop(['credit'], axis=1)\n",
        "# kmeans = KMeans(n_clusters=36, random_state=42).fit(kmeans_train)\n",
        "# train['cluster'] = kmeans.predict(kmeans_train)\n",
        "# test['cluster'] = kmeans.predict(test)"
      ],
      "metadata": {
        "id": "-5yP1l5Ql5WN"
      },
      "execution_count": null,
      "outputs": []
    },
    {
      "cell_type": "code",
      "source": [
        "# 범주형 변수 제외하고 클러스터링\n",
        "kmeans_train = train.drop(['credit'], axis=1)\n",
        "kmeans_train=kmeans_train[numerical_feats]\n",
        "kmeans = KMeans(n_clusters=36, random_state=42).fit(kmeans_train)\n",
        "train['cluster'] = kmeans.predict(kmeans_train)\n",
        "test['cluster'] = kmeans.predict(test[numerical_feats])"
      ],
      "metadata": {
        "id": "eu-InScWraXF"
      },
      "execution_count": null,
      "outputs": []
    },
    {
      "cell_type": "code",
      "source": [
        "numerical_feats.remove('income_total')\n",
        "scaler = StandardScaler()\n",
        "train[numerical_feats] = scaler.fit_transform(train[numerical_feats])\n",
        "test[numerical_feats] = scaler.transform(test[numerical_feats])"
      ],
      "metadata": {
        "id": "d2YEI34TIftG"
      },
      "execution_count": null,
      "outputs": []
    },
    {
      "cell_type": "code",
      "source": [
        "train.head()"
      ],
      "metadata": {
        "id": "30pBtblWLUbv",
        "colab": {
          "base_uri": "https://localhost:8080/",
          "height": 270
        },
        "outputId": "a72b0715-1253-4f8b-a23a-2d040421954d"
      },
      "execution_count": null,
      "outputs": [
        {
          "output_type": "execute_result",
          "data": {
            "text/html": [
              "\n",
              "  <div id=\"df-f358b034-e3da-405b-a9d5-ea8812494966\">\n",
              "    <div class=\"colab-df-container\">\n",
              "      <div>\n",
              "<style scoped>\n",
              "    .dataframe tbody tr th:only-of-type {\n",
              "        vertical-align: middle;\n",
              "    }\n",
              "\n",
              "    .dataframe tbody tr th {\n",
              "        vertical-align: top;\n",
              "    }\n",
              "\n",
              "    .dataframe thead th {\n",
              "        text-align: right;\n",
              "    }\n",
              "</style>\n",
              "<table border=\"1\" class=\"dataframe\">\n",
              "  <thead>\n",
              "    <tr style=\"text-align: right;\">\n",
              "      <th></th>\n",
              "      <th>gender</th>\n",
              "      <th>car</th>\n",
              "      <th>reality</th>\n",
              "      <th>income_total</th>\n",
              "      <th>income_type</th>\n",
              "      <th>edu_type</th>\n",
              "      <th>family_type</th>\n",
              "      <th>house_type</th>\n",
              "      <th>work_phone</th>\n",
              "      <th>phone</th>\n",
              "      <th>email</th>\n",
              "      <th>occyp_type</th>\n",
              "      <th>family_size</th>\n",
              "      <th>begin_month</th>\n",
              "      <th>credit</th>\n",
              "      <th>occyp_type_</th>\n",
              "      <th>Age</th>\n",
              "      <th>Worked</th>\n",
              "      <th>Workable</th>\n",
              "      <th>Unemployed</th>\n",
              "      <th>ability</th>\n",
              "      <th>sincerity</th>\n",
              "      <th>income_mean</th>\n",
              "      <th>ID</th>\n",
              "      <th>cluster</th>\n",
              "      <th>before_EMPLOYED</th>\n",
              "      <th>income_total_befofeEMP_ratio</th>\n",
              "      <th>before_EMPLOYED_m</th>\n",
              "      <th>before_EMPLOYED_w</th>\n",
              "      <th>DAYS_BIRTH_m</th>\n",
              "      <th>DAYS_BIRTH_w</th>\n",
              "      <th>EMPLOYED</th>\n",
              "      <th>DAYS_EMPLOYED_m</th>\n",
              "      <th>DAYS_EMPLOYED_w</th>\n",
              "    </tr>\n",
              "  </thead>\n",
              "  <tbody>\n",
              "    <tr>\n",
              "      <th>0</th>\n",
              "      <td>-0.703501</td>\n",
              "      <td>-0.782418</td>\n",
              "      <td>-1.437631</td>\n",
              "      <td>1.537844</td>\n",
              "      <td>-1.210358</td>\n",
              "      <td>-1.414380</td>\n",
              "      <td>-0.602031</td>\n",
              "      <td>-1.875290</td>\n",
              "      <td>-0.538321</td>\n",
              "      <td>-0.645632</td>\n",
              "      <td>-0.316977</td>\n",
              "      <td>-0.851744</td>\n",
              "      <td>-0.216262</td>\n",
              "      <td>0.695404</td>\n",
              "      <td>1.0</td>\n",
              "      <td>-1.154801</td>\n",
              "      <td>0.0</td>\n",
              "      <td>0.465899</td>\n",
              "      <td>-0.488305</td>\n",
              "      <td>-0.988059</td>\n",
              "      <td>0.019914</td>\n",
              "      <td>0.962233</td>\n",
              "      <td>-0.941908</td>\n",
              "      <td>1</td>\n",
              "      <td>-0.070284</td>\n",
              "      <td>-0.735862</td>\n",
              "      <td>0.349226</td>\n",
              "      <td>0.613195</td>\n",
              "      <td>0.613195</td>\n",
              "      <td>0.0</td>\n",
              "      <td>0.0</td>\n",
              "      <td>0.0</td>\n",
              "      <td>0.0</td>\n",
              "      <td>0.0</td>\n",
              "    </tr>\n",
              "    <tr>\n",
              "      <th>1</th>\n",
              "      <td>-0.703501</td>\n",
              "      <td>-0.782418</td>\n",
              "      <td>0.695589</td>\n",
              "      <td>1.540850</td>\n",
              "      <td>-1.210358</td>\n",
              "      <td>0.376342</td>\n",
              "      <td>0.190539</td>\n",
              "      <td>-0.174042</td>\n",
              "      <td>-0.538321</td>\n",
              "      <td>-0.645632</td>\n",
              "      <td>3.154805</td>\n",
              "      <td>-0.576796</td>\n",
              "      <td>0.897294</td>\n",
              "      <td>0.812863</td>\n",
              "      <td>1.0</td>\n",
              "      <td>-0.908344</td>\n",
              "      <td>0.0</td>\n",
              "      <td>-0.681544</td>\n",
              "      <td>-1.087676</td>\n",
              "      <td>-0.793769</td>\n",
              "      <td>-0.110934</td>\n",
              "      <td>0.237878</td>\n",
              "      <td>1.418588</td>\n",
              "      <td>2</td>\n",
              "      <td>-1.215034</td>\n",
              "      <td>0.270949</td>\n",
              "      <td>0.009380</td>\n",
              "      <td>0.613195</td>\n",
              "      <td>0.613195</td>\n",
              "      <td>0.0</td>\n",
              "      <td>0.0</td>\n",
              "      <td>0.0</td>\n",
              "      <td>0.0</td>\n",
              "      <td>0.0</td>\n",
              "    </tr>\n",
              "    <tr>\n",
              "      <th>2</th>\n",
              "      <td>1.421462</td>\n",
              "      <td>1.278089</td>\n",
              "      <td>0.695589</td>\n",
              "      <td>1.549515</td>\n",
              "      <td>-0.188227</td>\n",
              "      <td>-1.414380</td>\n",
              "      <td>-0.602031</td>\n",
              "      <td>-0.174042</td>\n",
              "      <td>-0.538321</td>\n",
              "      <td>1.548870</td>\n",
              "      <td>-0.316977</td>\n",
              "      <td>-0.301849</td>\n",
              "      <td>-0.216262</td>\n",
              "      <td>-1.183950</td>\n",
              "      <td>2.0</td>\n",
              "      <td>-0.661887</td>\n",
              "      <td>0.0</td>\n",
              "      <td>0.360387</td>\n",
              "      <td>0.745184</td>\n",
              "      <td>0.631024</td>\n",
              "      <td>-0.036381</td>\n",
              "      <td>1.303279</td>\n",
              "      <td>-1.065816</td>\n",
              "      <td>3</td>\n",
              "      <td>0.105832</td>\n",
              "      <td>-0.320948</td>\n",
              "      <td>0.029737</td>\n",
              "      <td>0.613195</td>\n",
              "      <td>0.613195</td>\n",
              "      <td>0.0</td>\n",
              "      <td>0.0</td>\n",
              "      <td>0.0</td>\n",
              "      <td>0.0</td>\n",
              "      <td>0.0</td>\n",
              "    </tr>\n",
              "    <tr>\n",
              "      <th>3</th>\n",
              "      <td>-0.703501</td>\n",
              "      <td>-0.782418</td>\n",
              "      <td>0.695589</td>\n",
              "      <td>1.537844</td>\n",
              "      <td>-1.210358</td>\n",
              "      <td>0.376342</td>\n",
              "      <td>-0.602031</td>\n",
              "      <td>-0.174042</td>\n",
              "      <td>-0.538321</td>\n",
              "      <td>1.548870</td>\n",
              "      <td>-0.316977</td>\n",
              "      <td>-0.026901</td>\n",
              "      <td>-0.216262</td>\n",
              "      <td>-0.390579</td>\n",
              "      <td>0.0</td>\n",
              "      <td>-0.415430</td>\n",
              "      <td>0.0</td>\n",
              "      <td>-0.483709</td>\n",
              "      <td>-0.210335</td>\n",
              "      <td>0.134505</td>\n",
              "      <td>0.185317</td>\n",
              "      <td>-0.305238</td>\n",
              "      <td>-0.941908</td>\n",
              "      <td>4</td>\n",
              "      <td>-0.334457</td>\n",
              "      <td>-1.162711</td>\n",
              "      <td>-0.043968</td>\n",
              "      <td>-1.630803</td>\n",
              "      <td>-1.630803</td>\n",
              "      <td>0.0</td>\n",
              "      <td>0.0</td>\n",
              "      <td>0.0</td>\n",
              "      <td>0.0</td>\n",
              "      <td>0.0</td>\n",
              "    </tr>\n",
              "    <tr>\n",
              "      <th>4</th>\n",
              "      <td>-0.703501</td>\n",
              "      <td>1.278089</td>\n",
              "      <td>0.695589</td>\n",
              "      <td>1.534005</td>\n",
              "      <td>0.833903</td>\n",
              "      <td>-1.414380</td>\n",
              "      <td>-0.602031</td>\n",
              "      <td>-0.174042</td>\n",
              "      <td>-0.538321</td>\n",
              "      <td>-0.645632</td>\n",
              "      <td>-0.316977</td>\n",
              "      <td>-0.301849</td>\n",
              "      <td>-0.216262</td>\n",
              "      <td>-1.653788</td>\n",
              "      <td>2.0</td>\n",
              "      <td>-0.661887</td>\n",
              "      <td>0.0</td>\n",
              "      <td>-0.470520</td>\n",
              "      <td>-0.219022</td>\n",
              "      <td>0.112917</td>\n",
              "      <td>0.165146</td>\n",
              "      <td>-0.461336</td>\n",
              "      <td>-0.902910</td>\n",
              "      <td>5</td>\n",
              "      <td>-0.334457</td>\n",
              "      <td>-1.143235</td>\n",
              "      <td>-0.045199</td>\n",
              "      <td>-1.630803</td>\n",
              "      <td>-1.630803</td>\n",
              "      <td>0.0</td>\n",
              "      <td>0.0</td>\n",
              "      <td>0.0</td>\n",
              "      <td>0.0</td>\n",
              "      <td>0.0</td>\n",
              "    </tr>\n",
              "  </tbody>\n",
              "</table>\n",
              "</div>\n",
              "      <button class=\"colab-df-convert\" onclick=\"convertToInteractive('df-f358b034-e3da-405b-a9d5-ea8812494966')\"\n",
              "              title=\"Convert this dataframe to an interactive table.\"\n",
              "              style=\"display:none;\">\n",
              "        \n",
              "  <svg xmlns=\"http://www.w3.org/2000/svg\" height=\"24px\"viewBox=\"0 0 24 24\"\n",
              "       width=\"24px\">\n",
              "    <path d=\"M0 0h24v24H0V0z\" fill=\"none\"/>\n",
              "    <path d=\"M18.56 5.44l.94 2.06.94-2.06 2.06-.94-2.06-.94-.94-2.06-.94 2.06-2.06.94zm-11 1L8.5 8.5l.94-2.06 2.06-.94-2.06-.94L8.5 2.5l-.94 2.06-2.06.94zm10 10l.94 2.06.94-2.06 2.06-.94-2.06-.94-.94-2.06-.94 2.06-2.06.94z\"/><path d=\"M17.41 7.96l-1.37-1.37c-.4-.4-.92-.59-1.43-.59-.52 0-1.04.2-1.43.59L10.3 9.45l-7.72 7.72c-.78.78-.78 2.05 0 2.83L4 21.41c.39.39.9.59 1.41.59.51 0 1.02-.2 1.41-.59l7.78-7.78 2.81-2.81c.8-.78.8-2.07 0-2.86zM5.41 20L4 18.59l7.72-7.72 1.47 1.35L5.41 20z\"/>\n",
              "  </svg>\n",
              "      </button>\n",
              "      \n",
              "  <style>\n",
              "    .colab-df-container {\n",
              "      display:flex;\n",
              "      flex-wrap:wrap;\n",
              "      gap: 12px;\n",
              "    }\n",
              "\n",
              "    .colab-df-convert {\n",
              "      background-color: #E8F0FE;\n",
              "      border: none;\n",
              "      border-radius: 50%;\n",
              "      cursor: pointer;\n",
              "      display: none;\n",
              "      fill: #1967D2;\n",
              "      height: 32px;\n",
              "      padding: 0 0 0 0;\n",
              "      width: 32px;\n",
              "    }\n",
              "\n",
              "    .colab-df-convert:hover {\n",
              "      background-color: #E2EBFA;\n",
              "      box-shadow: 0px 1px 2px rgba(60, 64, 67, 0.3), 0px 1px 3px 1px rgba(60, 64, 67, 0.15);\n",
              "      fill: #174EA6;\n",
              "    }\n",
              "\n",
              "    [theme=dark] .colab-df-convert {\n",
              "      background-color: #3B4455;\n",
              "      fill: #D2E3FC;\n",
              "    }\n",
              "\n",
              "    [theme=dark] .colab-df-convert:hover {\n",
              "      background-color: #434B5C;\n",
              "      box-shadow: 0px 1px 3px 1px rgba(0, 0, 0, 0.15);\n",
              "      filter: drop-shadow(0px 1px 2px rgba(0, 0, 0, 0.3));\n",
              "      fill: #FFFFFF;\n",
              "    }\n",
              "  </style>\n",
              "\n",
              "      <script>\n",
              "        const buttonEl =\n",
              "          document.querySelector('#df-f358b034-e3da-405b-a9d5-ea8812494966 button.colab-df-convert');\n",
              "        buttonEl.style.display =\n",
              "          google.colab.kernel.accessAllowed ? 'block' : 'none';\n",
              "\n",
              "        async function convertToInteractive(key) {\n",
              "          const element = document.querySelector('#df-f358b034-e3da-405b-a9d5-ea8812494966');\n",
              "          const dataTable =\n",
              "            await google.colab.kernel.invokeFunction('convertToInteractive',\n",
              "                                                     [key], {});\n",
              "          if (!dataTable) return;\n",
              "\n",
              "          const docLinkHtml = 'Like what you see? Visit the ' +\n",
              "            '<a target=\"_blank\" href=https://colab.research.google.com/notebooks/data_table.ipynb>data table notebook</a>'\n",
              "            + ' to learn more about interactive tables.';\n",
              "          element.innerHTML = '';\n",
              "          dataTable['output_type'] = 'display_data';\n",
              "          await google.colab.output.renderOutput(dataTable, element);\n",
              "          const docLink = document.createElement('div');\n",
              "          docLink.innerHTML = docLinkHtml;\n",
              "          element.appendChild(docLink);\n",
              "        }\n",
              "      </script>\n",
              "    </div>\n",
              "  </div>\n",
              "  "
            ],
            "text/plain": [
              "     gender       car   reality  ...  EMPLOYED  DAYS_EMPLOYED_m  DAYS_EMPLOYED_w\n",
              "0 -0.703501 -0.782418 -1.437631  ...       0.0              0.0              0.0\n",
              "1 -0.703501 -0.782418  0.695589  ...       0.0              0.0              0.0\n",
              "2  1.421462  1.278089  0.695589  ...       0.0              0.0              0.0\n",
              "3 -0.703501 -0.782418  0.695589  ...       0.0              0.0              0.0\n",
              "4 -0.703501  1.278089  0.695589  ...       0.0              0.0              0.0\n",
              "\n",
              "[5 rows x 34 columns]"
            ]
          },
          "metadata": {},
          "execution_count": 280
        }
      ]
    },
    {
      "cell_type": "markdown",
      "source": [
        "모델링"
      ],
      "metadata": {
        "id": "MW64OhzDLRu2"
      }
    },
    {
      "cell_type": "code",
      "source": [
        "n_est = 2000\n",
        "seed = 42\n",
        "n_fold = 15\n",
        "n_class = 3\n",
        "\n",
        "target = 'credit'\n",
        "X = train.drop(target, axis=1)\n",
        "y = train[target]\n",
        "X_test = test"
      ],
      "metadata": {
        "id": "ZQf-xOaINuIH"
      },
      "execution_count": null,
      "outputs": []
    },
    {
      "cell_type": "code",
      "source": [
        "skfold = StratifiedKFold(n_splits=n_fold, shuffle=True, random_state=seed)\n",
        "folds=[]\n",
        "for train_idx, valid_idx in skfold.split(X, y):\n",
        "        folds.append((train_idx, valid_idx))\n",
        "\n",
        "cat_pred = np.zeros((X.shape[0], n_class))\n",
        "cat_pred_test = np.zeros((X_test.shape[0], n_class))\n",
        "cat_cols = ['income_type', 'edu_type', 'family_type', 'house_type', 'occyp_type', 'ID']\n",
        "for fold in range(n_fold):\n",
        "  print(f'\\n----------------- Fold {fold} -----------------\\n')\n",
        "  train_idx, valid_idx = folds[fold]\n",
        "  X_train, X_valid, y_train, y_valid = X.iloc[train_idx], X.iloc[valid_idx], y[train_idx], y[valid_idx]\n",
        "  train_data = Pool(data=X_train, label=y_train, cat_features=cat_cols)\n",
        "  valid_data = Pool(data=X_valid, label=y_valid, cat_features=cat_cols)\n",
        "\n",
        "  model_cat = CatBoostClassifier()\n",
        "  model_cat.fit(train_data, eval_set=valid_data, use_best_model=True, early_stopping_rounds=100, verbose=100)\n",
        "\n",
        "  cat_pred[valid_idx] = model_cat.predict_proba(X_valid)\n",
        "  cat_pred_test += model_cat.predict_proba(X_test) / n_fold\n",
        "  print(f'CV Log Loss Score: {log_loss(y_valid, cat_pred[valid_idx]):.6f}')\n",
        "\n",
        "print(f'\\tLog Loss: {log_loss(y, cat_pred):.6f}')"
      ],
      "metadata": {
        "colab": {
          "base_uri": "https://localhost:8080/",
          "height": 576
        },
        "id": "5DylyiyTmAre",
        "outputId": "4e1cf21a-686a-41e4-d983-31e6d796b033"
      },
      "execution_count": null,
      "outputs": [
        {
          "output_type": "stream",
          "name": "stdout",
          "text": [
            "\n",
            "----------------- Fold 0 -----------------\n",
            "\n",
            "Learning rate set to 0.115127\n",
            "0:\tlearn: 1.0346887\ttest: 1.0340177\tbest: 1.0340177 (0)\ttotal: 113ms\tremaining: 1m 52s\n",
            "100:\tlearn: 0.7046183\ttest: 0.6729576\tbest: 0.6729576 (100)\ttotal: 9.51s\tremaining: 1m 24s\n"
          ]
        },
        {
          "output_type": "error",
          "ename": "KeyboardInterrupt",
          "evalue": "ignored",
          "traceback": [
            "\u001b[0;31m---------------------------------------------------------------------------\u001b[0m",
            "\u001b[0;31mKeyboardInterrupt\u001b[0m                         Traceback (most recent call last)",
            "\u001b[0;32m<ipython-input-286-c34a79e5ca29>\u001b[0m in \u001b[0;36m<module>\u001b[0;34m()\u001b[0m\n\u001b[1;32m     15\u001b[0m \u001b[0;34m\u001b[0m\u001b[0m\n\u001b[1;32m     16\u001b[0m   \u001b[0mmodel_cat\u001b[0m \u001b[0;34m=\u001b[0m \u001b[0mCatBoostClassifier\u001b[0m\u001b[0;34m(\u001b[0m\u001b[0;34m)\u001b[0m\u001b[0;34m\u001b[0m\u001b[0;34m\u001b[0m\u001b[0m\n\u001b[0;32m---> 17\u001b[0;31m   \u001b[0mmodel_cat\u001b[0m\u001b[0;34m.\u001b[0m\u001b[0mfit\u001b[0m\u001b[0;34m(\u001b[0m\u001b[0mtrain_data\u001b[0m\u001b[0;34m,\u001b[0m \u001b[0meval_set\u001b[0m\u001b[0;34m=\u001b[0m\u001b[0mvalid_data\u001b[0m\u001b[0;34m,\u001b[0m \u001b[0muse_best_model\u001b[0m\u001b[0;34m=\u001b[0m\u001b[0;32mTrue\u001b[0m\u001b[0;34m,\u001b[0m \u001b[0mearly_stopping_rounds\u001b[0m\u001b[0;34m=\u001b[0m\u001b[0;36m100\u001b[0m\u001b[0;34m,\u001b[0m \u001b[0mverbose\u001b[0m\u001b[0;34m=\u001b[0m\u001b[0;36m100\u001b[0m\u001b[0;34m)\u001b[0m\u001b[0;34m\u001b[0m\u001b[0;34m\u001b[0m\u001b[0m\n\u001b[0m\u001b[1;32m     18\u001b[0m \u001b[0;34m\u001b[0m\u001b[0m\n\u001b[1;32m     19\u001b[0m   \u001b[0mcat_pred\u001b[0m\u001b[0;34m[\u001b[0m\u001b[0mvalid_idx\u001b[0m\u001b[0;34m]\u001b[0m \u001b[0;34m=\u001b[0m \u001b[0mmodel_cat\u001b[0m\u001b[0;34m.\u001b[0m\u001b[0mpredict_proba\u001b[0m\u001b[0;34m(\u001b[0m\u001b[0mX_valid\u001b[0m\u001b[0;34m)\u001b[0m\u001b[0;34m\u001b[0m\u001b[0;34m\u001b[0m\u001b[0m\n",
            "\u001b[0;32m/usr/local/lib/python3.7/dist-packages/catboost/core.py\u001b[0m in \u001b[0;36mfit\u001b[0;34m(self, X, y, cat_features, text_features, embedding_features, sample_weight, baseline, use_best_model, eval_set, verbose, logging_level, plot, column_description, verbose_eval, metric_period, silent, early_stopping_rounds, save_snapshot, snapshot_file, snapshot_interval, init_model, callbacks, log_cout, log_cerr)\u001b[0m\n\u001b[1;32m   4768\u001b[0m         self._fit(X, y, cat_features, text_features, embedding_features, None, sample_weight, None, None, None, None, baseline, use_best_model,\n\u001b[1;32m   4769\u001b[0m                   \u001b[0meval_set\u001b[0m\u001b[0;34m,\u001b[0m \u001b[0mverbose\u001b[0m\u001b[0;34m,\u001b[0m \u001b[0mlogging_level\u001b[0m\u001b[0;34m,\u001b[0m \u001b[0mplot\u001b[0m\u001b[0;34m,\u001b[0m \u001b[0mcolumn_description\u001b[0m\u001b[0;34m,\u001b[0m \u001b[0mverbose_eval\u001b[0m\u001b[0;34m,\u001b[0m \u001b[0mmetric_period\u001b[0m\u001b[0;34m,\u001b[0m\u001b[0;34m\u001b[0m\u001b[0;34m\u001b[0m\u001b[0m\n\u001b[0;32m-> 4770\u001b[0;31m                   silent, early_stopping_rounds, save_snapshot, snapshot_file, snapshot_interval, init_model, callbacks, log_cout, log_cerr)\n\u001b[0m\u001b[1;32m   4771\u001b[0m         \u001b[0;32mreturn\u001b[0m \u001b[0mself\u001b[0m\u001b[0;34m\u001b[0m\u001b[0;34m\u001b[0m\u001b[0m\n\u001b[1;32m   4772\u001b[0m \u001b[0;34m\u001b[0m\u001b[0m\n",
            "\u001b[0;32m/usr/local/lib/python3.7/dist-packages/catboost/core.py\u001b[0m in \u001b[0;36m_fit\u001b[0;34m(self, X, y, cat_features, text_features, embedding_features, pairs, sample_weight, group_id, group_weight, subgroup_id, pairs_weight, baseline, use_best_model, eval_set, verbose, logging_level, plot, column_description, verbose_eval, metric_period, silent, early_stopping_rounds, save_snapshot, snapshot_file, snapshot_interval, init_model, callbacks, log_cout, log_cerr)\u001b[0m\n\u001b[1;32m   2092\u001b[0m                 \u001b[0mparams\u001b[0m\u001b[0;34m,\u001b[0m\u001b[0;34m\u001b[0m\u001b[0;34m\u001b[0m\u001b[0m\n\u001b[1;32m   2093\u001b[0m                 \u001b[0mallow_clear_pool\u001b[0m\u001b[0;34m,\u001b[0m\u001b[0;34m\u001b[0m\u001b[0;34m\u001b[0m\u001b[0m\n\u001b[0;32m-> 2094\u001b[0;31m                 \u001b[0mtrain_params\u001b[0m\u001b[0;34m[\u001b[0m\u001b[0;34m\"init_model\"\u001b[0m\u001b[0;34m]\u001b[0m\u001b[0;34m\u001b[0m\u001b[0;34m\u001b[0m\u001b[0m\n\u001b[0m\u001b[1;32m   2095\u001b[0m             )\n\u001b[1;32m   2096\u001b[0m \u001b[0;34m\u001b[0m\u001b[0m\n",
            "\u001b[0;32m/usr/local/lib/python3.7/dist-packages/catboost/core.py\u001b[0m in \u001b[0;36m_train\u001b[0;34m(self, train_pool, test_pool, params, allow_clear_pool, init_model)\u001b[0m\n\u001b[1;32m   1514\u001b[0m \u001b[0;34m\u001b[0m\u001b[0m\n\u001b[1;32m   1515\u001b[0m     \u001b[0;32mdef\u001b[0m \u001b[0m_train\u001b[0m\u001b[0;34m(\u001b[0m\u001b[0mself\u001b[0m\u001b[0;34m,\u001b[0m \u001b[0mtrain_pool\u001b[0m\u001b[0;34m,\u001b[0m \u001b[0mtest_pool\u001b[0m\u001b[0;34m,\u001b[0m \u001b[0mparams\u001b[0m\u001b[0;34m,\u001b[0m \u001b[0mallow_clear_pool\u001b[0m\u001b[0;34m,\u001b[0m \u001b[0minit_model\u001b[0m\u001b[0;34m)\u001b[0m\u001b[0;34m:\u001b[0m\u001b[0;34m\u001b[0m\u001b[0;34m\u001b[0m\u001b[0m\n\u001b[0;32m-> 1516\u001b[0;31m         \u001b[0mself\u001b[0m\u001b[0;34m.\u001b[0m\u001b[0m_object\u001b[0m\u001b[0;34m.\u001b[0m\u001b[0m_train\u001b[0m\u001b[0;34m(\u001b[0m\u001b[0mtrain_pool\u001b[0m\u001b[0;34m,\u001b[0m \u001b[0mtest_pool\u001b[0m\u001b[0;34m,\u001b[0m \u001b[0mparams\u001b[0m\u001b[0;34m,\u001b[0m \u001b[0mallow_clear_pool\u001b[0m\u001b[0;34m,\u001b[0m \u001b[0minit_model\u001b[0m\u001b[0;34m.\u001b[0m\u001b[0m_object\u001b[0m \u001b[0;32mif\u001b[0m \u001b[0minit_model\u001b[0m \u001b[0;32melse\u001b[0m \u001b[0;32mNone\u001b[0m\u001b[0;34m)\u001b[0m\u001b[0;34m\u001b[0m\u001b[0;34m\u001b[0m\u001b[0m\n\u001b[0m\u001b[1;32m   1517\u001b[0m         \u001b[0mself\u001b[0m\u001b[0;34m.\u001b[0m\u001b[0m_set_trained_model_attributes\u001b[0m\u001b[0;34m(\u001b[0m\u001b[0;34m)\u001b[0m\u001b[0;34m\u001b[0m\u001b[0;34m\u001b[0m\u001b[0m\n\u001b[1;32m   1518\u001b[0m \u001b[0;34m\u001b[0m\u001b[0m\n",
            "\u001b[0;32m_catboost.pyx\u001b[0m in \u001b[0;36m_catboost._CatBoost._train\u001b[0;34m()\u001b[0m\n",
            "\u001b[0;32m_catboost.pyx\u001b[0m in \u001b[0;36m_catboost._CatBoost._train\u001b[0;34m()\u001b[0m\n",
            "\u001b[0;31mKeyboardInterrupt\u001b[0m: "
          ]
        }
      ]
    },
    {
      "cell_type": "code",
      "source": [
        "def plot_feature_importance(importance,names,model_type):\n",
        "\n",
        "    feature_importance = np.array(importance)\n",
        "    feature_names = np.array(names)\n",
        "\n",
        "    data={'feature_names':feature_names,'feature_importance':feature_importance}\n",
        "    fi_df = pd.DataFrame(data)\n",
        "\n",
        "    fi_df.sort_values(by=['feature_importance'], ascending=False,inplace=True)\n",
        "\n",
        "    plt.figure(figsize=(10,8))\n",
        "\n",
        "    sns.barplot(x=fi_df['feature_importance'], y=fi_df['feature_names'])\n",
        "\n",
        "    plt.title(model_type + ' Feature Importance')\n",
        "    plt.xlabel('Feature Importance')\n",
        "    plt.ylabel('Feature Names')"
      ],
      "metadata": {
        "id": "jjmyiM3lmOVc"
      },
      "execution_count": null,
      "outputs": []
    },
    {
      "cell_type": "code",
      "source": [
        "plot_feature_importance(model_cat.get_feature_importance(),X_test.columns,'CATBOOST')"
      ],
      "metadata": {
        "id": "87pfKkjmmPpE"
      },
      "execution_count": null,
      "outputs": []
    },
    {
      "cell_type": "code",
      "source": [
        "sub = pd.read_csv(path + 'sample_submission.csv')"
      ],
      "metadata": {
        "id": "BGs3tgGzmRFA"
      },
      "execution_count": null,
      "outputs": []
    },
    {
      "cell_type": "code",
      "source": [
        "sub.iloc[:, 1:] = cat_pred_test\n",
        "sub"
      ],
      "metadata": {
        "id": "iAKtWwM2mSGc"
      },
      "execution_count": null,
      "outputs": []
    },
    {
      "cell_type": "code",
      "source": [
        "sub.to_csv('submission_1위코드.csv', index=False)"
      ],
      "metadata": {
        "id": "pTLMMPsFmTgk"
      },
      "execution_count": null,
      "outputs": []
    }
  ]
}